{
 "cells": [
  {
   "cell_type": "markdown",
   "source": [
    "### Formula 1 Races"
   ],
   "metadata": {
    "collapsed": false
   },
   "id": "ff5194cb85955f9f"
  },
  {
   "cell_type": "code",
   "outputs": [],
   "source": [
    "import pandas as pd\n",
    "import numpy as np"
   ],
   "metadata": {
    "collapsed": false,
    "ExecuteTime": {
     "end_time": "2025-01-08T14:41:57.177185Z",
     "start_time": "2025-01-08T14:41:56.772282Z"
    }
   },
   "id": "f29102c842ff44f5",
   "execution_count": 2
  },
  {
   "cell_type": "code",
   "outputs": [],
   "source": [
    "circuits = pd.read_csv('f1db_csv/circuits.csv')\n",
    "sprints = pd.read_csv('f1db_csv/sprint_results.csv')"
   ],
   "metadata": {
    "collapsed": false,
    "ExecuteTime": {
     "end_time": "2025-01-08T14:44:00.279200Z",
     "start_time": "2025-01-08T14:44:00.268Z"
    }
   },
   "id": "cf9aaaf5f1c7cd1c",
   "execution_count": 21
  },
  {
   "cell_type": "code",
   "outputs": [
    {
     "data": {
      "text/plain": "   circuitId   circuitRef                            name      location  \\\n0          1  albert_park  Albert Park Grand Prix Circuit     Melbourne   \n1          2       sepang    Sepang International Circuit  Kuala Lumpur   \n2          3      bahrain   Bahrain International Circuit        Sakhir   \n3          4    catalunya  Circuit de Barcelona-Catalunya      Montmeló   \n4          5     istanbul                   Istanbul Park      Istanbul   \n\n     country       lat        lng  alt  \\\n0  Australia -37.84970  144.96800   10   \n1   Malaysia   2.76083  101.73800   18   \n2    Bahrain  26.03250   50.51060    7   \n3      Spain  41.57000    2.26111  109   \n4     Turkey  40.95170   29.40500  130   \n\n                                                 url  \n0  http://en.wikipedia.org/wiki/Melbourne_Grand_P...  \n1  http://en.wikipedia.org/wiki/Sepang_Internatio...  \n2  http://en.wikipedia.org/wiki/Bahrain_Internati...  \n3  http://en.wikipedia.org/wiki/Circuit_de_Barcel...  \n4         http://en.wikipedia.org/wiki/Istanbul_Park  ",
      "text/html": "<div>\n<style scoped>\n    .dataframe tbody tr th:only-of-type {\n        vertical-align: middle;\n    }\n\n    .dataframe tbody tr th {\n        vertical-align: top;\n    }\n\n    .dataframe thead th {\n        text-align: right;\n    }\n</style>\n<table border=\"1\" class=\"dataframe\">\n  <thead>\n    <tr style=\"text-align: right;\">\n      <th></th>\n      <th>circuitId</th>\n      <th>circuitRef</th>\n      <th>name</th>\n      <th>location</th>\n      <th>country</th>\n      <th>lat</th>\n      <th>lng</th>\n      <th>alt</th>\n      <th>url</th>\n    </tr>\n  </thead>\n  <tbody>\n    <tr>\n      <th>0</th>\n      <td>1</td>\n      <td>albert_park</td>\n      <td>Albert Park Grand Prix Circuit</td>\n      <td>Melbourne</td>\n      <td>Australia</td>\n      <td>-37.84970</td>\n      <td>144.96800</td>\n      <td>10</td>\n      <td>http://en.wikipedia.org/wiki/Melbourne_Grand_P...</td>\n    </tr>\n    <tr>\n      <th>1</th>\n      <td>2</td>\n      <td>sepang</td>\n      <td>Sepang International Circuit</td>\n      <td>Kuala Lumpur</td>\n      <td>Malaysia</td>\n      <td>2.76083</td>\n      <td>101.73800</td>\n      <td>18</td>\n      <td>http://en.wikipedia.org/wiki/Sepang_Internatio...</td>\n    </tr>\n    <tr>\n      <th>2</th>\n      <td>3</td>\n      <td>bahrain</td>\n      <td>Bahrain International Circuit</td>\n      <td>Sakhir</td>\n      <td>Bahrain</td>\n      <td>26.03250</td>\n      <td>50.51060</td>\n      <td>7</td>\n      <td>http://en.wikipedia.org/wiki/Bahrain_Internati...</td>\n    </tr>\n    <tr>\n      <th>3</th>\n      <td>4</td>\n      <td>catalunya</td>\n      <td>Circuit de Barcelona-Catalunya</td>\n      <td>Montmeló</td>\n      <td>Spain</td>\n      <td>41.57000</td>\n      <td>2.26111</td>\n      <td>109</td>\n      <td>http://en.wikipedia.org/wiki/Circuit_de_Barcel...</td>\n    </tr>\n    <tr>\n      <th>4</th>\n      <td>5</td>\n      <td>istanbul</td>\n      <td>Istanbul Park</td>\n      <td>Istanbul</td>\n      <td>Turkey</td>\n      <td>40.95170</td>\n      <td>29.40500</td>\n      <td>130</td>\n      <td>http://en.wikipedia.org/wiki/Istanbul_Park</td>\n    </tr>\n  </tbody>\n</table>\n</div>"
     },
     "execution_count": 4,
     "metadata": {},
     "output_type": "execute_result"
    }
   ],
   "source": [
    "circuits.head()"
   ],
   "metadata": {
    "collapsed": false,
    "ExecuteTime": {
     "end_time": "2025-01-08T14:41:57.188041Z",
     "start_time": "2025-01-08T14:41:57.181786Z"
    }
   },
   "id": "3cf582b0f1c8652d",
   "execution_count": 4
  },
  {
   "cell_type": "code",
   "outputs": [
    {
     "data": {
      "text/plain": "   resultId  raceId  driverId  constructorId  number  grid position  \\\n0         1    1061       830              9      33     2        1   \n1         2    1061         1            131      44     1        2   \n2         3    1061       822            131      77     3        3   \n3         4    1061       844              6      16     4        4   \n4         5    1061       846              1       4     6        5   \n\n  positionText  positionOrder  points  laps       time milliseconds  \\\n0            1              1       3    17  25:38.426      1538426   \n1            2              2       2    17     +1.430      1539856   \n2            3              3       1    17     +7.502      1545928   \n3            4              4       0    17    +11.278      1549704   \n4            5              5       0    17    +24.111      1562537   \n\n  fastestLap fastestLapTime  statusId  \n0         14       1:30.013         1  \n1         17       1:29.937         1  \n2         17       1:29.958         1  \n3         16       1:30.163         1  \n4         16       1:30.566         1  ",
      "text/html": "<div>\n<style scoped>\n    .dataframe tbody tr th:only-of-type {\n        vertical-align: middle;\n    }\n\n    .dataframe tbody tr th {\n        vertical-align: top;\n    }\n\n    .dataframe thead th {\n        text-align: right;\n    }\n</style>\n<table border=\"1\" class=\"dataframe\">\n  <thead>\n    <tr style=\"text-align: right;\">\n      <th></th>\n      <th>resultId</th>\n      <th>raceId</th>\n      <th>driverId</th>\n      <th>constructorId</th>\n      <th>number</th>\n      <th>grid</th>\n      <th>position</th>\n      <th>positionText</th>\n      <th>positionOrder</th>\n      <th>points</th>\n      <th>laps</th>\n      <th>time</th>\n      <th>milliseconds</th>\n      <th>fastestLap</th>\n      <th>fastestLapTime</th>\n      <th>statusId</th>\n    </tr>\n  </thead>\n  <tbody>\n    <tr>\n      <th>0</th>\n      <td>1</td>\n      <td>1061</td>\n      <td>830</td>\n      <td>9</td>\n      <td>33</td>\n      <td>2</td>\n      <td>1</td>\n      <td>1</td>\n      <td>1</td>\n      <td>3</td>\n      <td>17</td>\n      <td>25:38.426</td>\n      <td>1538426</td>\n      <td>14</td>\n      <td>1:30.013</td>\n      <td>1</td>\n    </tr>\n    <tr>\n      <th>1</th>\n      <td>2</td>\n      <td>1061</td>\n      <td>1</td>\n      <td>131</td>\n      <td>44</td>\n      <td>1</td>\n      <td>2</td>\n      <td>2</td>\n      <td>2</td>\n      <td>2</td>\n      <td>17</td>\n      <td>+1.430</td>\n      <td>1539856</td>\n      <td>17</td>\n      <td>1:29.937</td>\n      <td>1</td>\n    </tr>\n    <tr>\n      <th>2</th>\n      <td>3</td>\n      <td>1061</td>\n      <td>822</td>\n      <td>131</td>\n      <td>77</td>\n      <td>3</td>\n      <td>3</td>\n      <td>3</td>\n      <td>3</td>\n      <td>1</td>\n      <td>17</td>\n      <td>+7.502</td>\n      <td>1545928</td>\n      <td>17</td>\n      <td>1:29.958</td>\n      <td>1</td>\n    </tr>\n    <tr>\n      <th>3</th>\n      <td>4</td>\n      <td>1061</td>\n      <td>844</td>\n      <td>6</td>\n      <td>16</td>\n      <td>4</td>\n      <td>4</td>\n      <td>4</td>\n      <td>4</td>\n      <td>0</td>\n      <td>17</td>\n      <td>+11.278</td>\n      <td>1549704</td>\n      <td>16</td>\n      <td>1:30.163</td>\n      <td>1</td>\n    </tr>\n    <tr>\n      <th>4</th>\n      <td>5</td>\n      <td>1061</td>\n      <td>846</td>\n      <td>1</td>\n      <td>4</td>\n      <td>6</td>\n      <td>5</td>\n      <td>5</td>\n      <td>5</td>\n      <td>0</td>\n      <td>17</td>\n      <td>+24.111</td>\n      <td>1562537</td>\n      <td>16</td>\n      <td>1:30.566</td>\n      <td>1</td>\n    </tr>\n  </tbody>\n</table>\n</div>"
     },
     "execution_count": 22,
     "metadata": {},
     "output_type": "execute_result"
    }
   ],
   "source": [
    "sprints.head()"
   ],
   "metadata": {
    "collapsed": false,
    "ExecuteTime": {
     "end_time": "2025-01-08T14:44:11.334284Z",
     "start_time": "2025-01-08T14:44:11.329734Z"
    }
   },
   "id": "837930ce7051c8aa",
   "execution_count": 22
  },
  {
   "cell_type": "code",
   "outputs": [],
   "source": [
    "races = pd.read_csv('f1db_csv/races.csv')"
   ],
   "metadata": {
    "collapsed": false,
    "ExecuteTime": {
     "end_time": "2025-01-08T14:41:57.194067Z",
     "start_time": "2025-01-08T14:41:57.189698Z"
    }
   },
   "id": "d96f8fa3c43f71f6",
   "execution_count": 5
  },
  {
   "cell_type": "code",
   "outputs": [
    {
     "data": {
      "text/plain": "   raceId  year  round  circuitId                   name        date  \\\n0       1  2009      1          1  Australian Grand Prix  2009-03-29   \n1       2  2009      2          2   Malaysian Grand Prix  2009-04-05   \n2       3  2009      3         17     Chinese Grand Prix  2009-04-19   \n3       4  2009      4          3     Bahrain Grand Prix  2009-04-26   \n4       5  2009      5          4     Spanish Grand Prix  2009-05-10   \n\n       time                                                url fp1_date  \\\n0  06:00:00  http://en.wikipedia.org/wiki/2009_Australian_G...       \\N   \n1  09:00:00  http://en.wikipedia.org/wiki/2009_Malaysian_Gr...       \\N   \n2  07:00:00  http://en.wikipedia.org/wiki/2009_Chinese_Gran...       \\N   \n3  12:00:00  http://en.wikipedia.org/wiki/2009_Bahrain_Gran...       \\N   \n4  12:00:00  http://en.wikipedia.org/wiki/2009_Spanish_Gran...       \\N   \n\n  fp1_time fp2_date fp2_time fp3_date fp3_time quali_date quali_time  \\\n0       \\N       \\N       \\N       \\N       \\N         \\N         \\N   \n1       \\N       \\N       \\N       \\N       \\N         \\N         \\N   \n2       \\N       \\N       \\N       \\N       \\N         \\N         \\N   \n3       \\N       \\N       \\N       \\N       \\N         \\N         \\N   \n4       \\N       \\N       \\N       \\N       \\N         \\N         \\N   \n\n  sprint_date sprint_time  \n0          \\N          \\N  \n1          \\N          \\N  \n2          \\N          \\N  \n3          \\N          \\N  \n4          \\N          \\N  ",
      "text/html": "<div>\n<style scoped>\n    .dataframe tbody tr th:only-of-type {\n        vertical-align: middle;\n    }\n\n    .dataframe tbody tr th {\n        vertical-align: top;\n    }\n\n    .dataframe thead th {\n        text-align: right;\n    }\n</style>\n<table border=\"1\" class=\"dataframe\">\n  <thead>\n    <tr style=\"text-align: right;\">\n      <th></th>\n      <th>raceId</th>\n      <th>year</th>\n      <th>round</th>\n      <th>circuitId</th>\n      <th>name</th>\n      <th>date</th>\n      <th>time</th>\n      <th>url</th>\n      <th>fp1_date</th>\n      <th>fp1_time</th>\n      <th>fp2_date</th>\n      <th>fp2_time</th>\n      <th>fp3_date</th>\n      <th>fp3_time</th>\n      <th>quali_date</th>\n      <th>quali_time</th>\n      <th>sprint_date</th>\n      <th>sprint_time</th>\n    </tr>\n  </thead>\n  <tbody>\n    <tr>\n      <th>0</th>\n      <td>1</td>\n      <td>2009</td>\n      <td>1</td>\n      <td>1</td>\n      <td>Australian Grand Prix</td>\n      <td>2009-03-29</td>\n      <td>06:00:00</td>\n      <td>http://en.wikipedia.org/wiki/2009_Australian_G...</td>\n      <td>\\N</td>\n      <td>\\N</td>\n      <td>\\N</td>\n      <td>\\N</td>\n      <td>\\N</td>\n      <td>\\N</td>\n      <td>\\N</td>\n      <td>\\N</td>\n      <td>\\N</td>\n      <td>\\N</td>\n    </tr>\n    <tr>\n      <th>1</th>\n      <td>2</td>\n      <td>2009</td>\n      <td>2</td>\n      <td>2</td>\n      <td>Malaysian Grand Prix</td>\n      <td>2009-04-05</td>\n      <td>09:00:00</td>\n      <td>http://en.wikipedia.org/wiki/2009_Malaysian_Gr...</td>\n      <td>\\N</td>\n      <td>\\N</td>\n      <td>\\N</td>\n      <td>\\N</td>\n      <td>\\N</td>\n      <td>\\N</td>\n      <td>\\N</td>\n      <td>\\N</td>\n      <td>\\N</td>\n      <td>\\N</td>\n    </tr>\n    <tr>\n      <th>2</th>\n      <td>3</td>\n      <td>2009</td>\n      <td>3</td>\n      <td>17</td>\n      <td>Chinese Grand Prix</td>\n      <td>2009-04-19</td>\n      <td>07:00:00</td>\n      <td>http://en.wikipedia.org/wiki/2009_Chinese_Gran...</td>\n      <td>\\N</td>\n      <td>\\N</td>\n      <td>\\N</td>\n      <td>\\N</td>\n      <td>\\N</td>\n      <td>\\N</td>\n      <td>\\N</td>\n      <td>\\N</td>\n      <td>\\N</td>\n      <td>\\N</td>\n    </tr>\n    <tr>\n      <th>3</th>\n      <td>4</td>\n      <td>2009</td>\n      <td>4</td>\n      <td>3</td>\n      <td>Bahrain Grand Prix</td>\n      <td>2009-04-26</td>\n      <td>12:00:00</td>\n      <td>http://en.wikipedia.org/wiki/2009_Bahrain_Gran...</td>\n      <td>\\N</td>\n      <td>\\N</td>\n      <td>\\N</td>\n      <td>\\N</td>\n      <td>\\N</td>\n      <td>\\N</td>\n      <td>\\N</td>\n      <td>\\N</td>\n      <td>\\N</td>\n      <td>\\N</td>\n    </tr>\n    <tr>\n      <th>4</th>\n      <td>5</td>\n      <td>2009</td>\n      <td>5</td>\n      <td>4</td>\n      <td>Spanish Grand Prix</td>\n      <td>2009-05-10</td>\n      <td>12:00:00</td>\n      <td>http://en.wikipedia.org/wiki/2009_Spanish_Gran...</td>\n      <td>\\N</td>\n      <td>\\N</td>\n      <td>\\N</td>\n      <td>\\N</td>\n      <td>\\N</td>\n      <td>\\N</td>\n      <td>\\N</td>\n      <td>\\N</td>\n      <td>\\N</td>\n      <td>\\N</td>\n    </tr>\n  </tbody>\n</table>\n</div>"
     },
     "execution_count": 6,
     "metadata": {},
     "output_type": "execute_result"
    }
   ],
   "source": [
    "races.head()"
   ],
   "metadata": {
    "collapsed": false,
    "ExecuteTime": {
     "end_time": "2025-01-08T14:41:57.198888Z",
     "start_time": "2025-01-08T14:41:57.194591Z"
    }
   },
   "id": "6562adf4e9be6baf",
   "execution_count": 6
  },
  {
   "cell_type": "markdown",
   "source": [
    "##### Clean up race dataframe and remove unnecessary columns\n",
    "-  We are cleaning up FP practice and qualification data as it isn't necessary for geographical visualization"
   ],
   "metadata": {
    "collapsed": false
   },
   "id": "e31c0e25f1c7b82b"
  },
  {
   "cell_type": "markdown",
   "source": [],
   "metadata": {
    "collapsed": false
   },
   "id": "bb7db688c4d4f885"
  },
  {
   "cell_type": "code",
   "outputs": [],
   "source": [
    "races = races.drop(['fp1_date', 'fp1_time', 'fp2_date', 'fp2_time', 'fp3_date', 'fp3_time', 'quali_date', 'quali_time', 'sprint_time'], axis=1)"
   ],
   "metadata": {
    "collapsed": false,
    "ExecuteTime": {
     "end_time": "2025-01-08T14:41:57.201463Z",
     "start_time": "2025-01-08T14:41:57.199375Z"
    }
   },
   "id": "69e5e33e047da504",
   "execution_count": 7
  },
  {
   "cell_type": "code",
   "outputs": [],
   "source": [
    "circuit_subset = circuits[['circuitId', 'circuitRef', 'name', 'location', 'country', 'lat', 'lng']]"
   ],
   "metadata": {
    "collapsed": false,
    "ExecuteTime": {
     "end_time": "2025-01-08T14:41:57.203929Z",
     "start_time": "2025-01-08T14:41:57.201879Z"
    }
   },
   "id": "971a17e1d1d9c308",
   "execution_count": 8
  },
  {
   "cell_type": "markdown",
   "source": [
    "##### Merge Circuits and Race Data\n",
    "- Merge on Circuit ID to match circuit information with the race data for each season\n",
    "- Rename columns for easy readability"
   ],
   "metadata": {
    "collapsed": false
   },
   "id": "b552ecdb32ab094e"
  },
  {
   "cell_type": "code",
   "outputs": [],
   "source": [
    "races = pd.merge(races, circuit_subset, on='circuitId', how='left')"
   ],
   "metadata": {
    "collapsed": false,
    "ExecuteTime": {
     "end_time": "2025-01-08T14:41:57.208339Z",
     "start_time": "2025-01-08T14:41:57.204525Z"
    }
   },
   "id": "7925a2ee920e5ca5",
   "execution_count": 9
  },
  {
   "cell_type": "code",
   "outputs": [
    {
     "data": {
      "text/plain": "   raceId  year  round  circuitId                 name_x        date  \\\n0       1  2009      1          1  Australian Grand Prix  2009-03-29   \n1       2  2009      2          2   Malaysian Grand Prix  2009-04-05   \n2       3  2009      3         17     Chinese Grand Prix  2009-04-19   \n3       4  2009      4          3     Bahrain Grand Prix  2009-04-26   \n4       5  2009      5          4     Spanish Grand Prix  2009-05-10   \n\n       time                                                url sprint_date  \\\n0  06:00:00  http://en.wikipedia.org/wiki/2009_Australian_G...          \\N   \n1  09:00:00  http://en.wikipedia.org/wiki/2009_Malaysian_Gr...          \\N   \n2  07:00:00  http://en.wikipedia.org/wiki/2009_Chinese_Gran...          \\N   \n3  12:00:00  http://en.wikipedia.org/wiki/2009_Bahrain_Gran...          \\N   \n4  12:00:00  http://en.wikipedia.org/wiki/2009_Spanish_Gran...          \\N   \n\n    circuitRef                          name_y      location    country  \\\n0  albert_park  Albert Park Grand Prix Circuit     Melbourne  Australia   \n1       sepang    Sepang International Circuit  Kuala Lumpur   Malaysia   \n2     shanghai  Shanghai International Circuit      Shanghai      China   \n3      bahrain   Bahrain International Circuit        Sakhir    Bahrain   \n4    catalunya  Circuit de Barcelona-Catalunya      Montmeló      Spain   \n\n        lat        lng  \n0 -37.84970  144.96800  \n1   2.76083  101.73800  \n2  31.33890  121.22000  \n3  26.03250   50.51060  \n4  41.57000    2.26111  ",
      "text/html": "<div>\n<style scoped>\n    .dataframe tbody tr th:only-of-type {\n        vertical-align: middle;\n    }\n\n    .dataframe tbody tr th {\n        vertical-align: top;\n    }\n\n    .dataframe thead th {\n        text-align: right;\n    }\n</style>\n<table border=\"1\" class=\"dataframe\">\n  <thead>\n    <tr style=\"text-align: right;\">\n      <th></th>\n      <th>raceId</th>\n      <th>year</th>\n      <th>round</th>\n      <th>circuitId</th>\n      <th>name_x</th>\n      <th>date</th>\n      <th>time</th>\n      <th>url</th>\n      <th>sprint_date</th>\n      <th>circuitRef</th>\n      <th>name_y</th>\n      <th>location</th>\n      <th>country</th>\n      <th>lat</th>\n      <th>lng</th>\n    </tr>\n  </thead>\n  <tbody>\n    <tr>\n      <th>0</th>\n      <td>1</td>\n      <td>2009</td>\n      <td>1</td>\n      <td>1</td>\n      <td>Australian Grand Prix</td>\n      <td>2009-03-29</td>\n      <td>06:00:00</td>\n      <td>http://en.wikipedia.org/wiki/2009_Australian_G...</td>\n      <td>\\N</td>\n      <td>albert_park</td>\n      <td>Albert Park Grand Prix Circuit</td>\n      <td>Melbourne</td>\n      <td>Australia</td>\n      <td>-37.84970</td>\n      <td>144.96800</td>\n    </tr>\n    <tr>\n      <th>1</th>\n      <td>2</td>\n      <td>2009</td>\n      <td>2</td>\n      <td>2</td>\n      <td>Malaysian Grand Prix</td>\n      <td>2009-04-05</td>\n      <td>09:00:00</td>\n      <td>http://en.wikipedia.org/wiki/2009_Malaysian_Gr...</td>\n      <td>\\N</td>\n      <td>sepang</td>\n      <td>Sepang International Circuit</td>\n      <td>Kuala Lumpur</td>\n      <td>Malaysia</td>\n      <td>2.76083</td>\n      <td>101.73800</td>\n    </tr>\n    <tr>\n      <th>2</th>\n      <td>3</td>\n      <td>2009</td>\n      <td>3</td>\n      <td>17</td>\n      <td>Chinese Grand Prix</td>\n      <td>2009-04-19</td>\n      <td>07:00:00</td>\n      <td>http://en.wikipedia.org/wiki/2009_Chinese_Gran...</td>\n      <td>\\N</td>\n      <td>shanghai</td>\n      <td>Shanghai International Circuit</td>\n      <td>Shanghai</td>\n      <td>China</td>\n      <td>31.33890</td>\n      <td>121.22000</td>\n    </tr>\n    <tr>\n      <th>3</th>\n      <td>4</td>\n      <td>2009</td>\n      <td>4</td>\n      <td>3</td>\n      <td>Bahrain Grand Prix</td>\n      <td>2009-04-26</td>\n      <td>12:00:00</td>\n      <td>http://en.wikipedia.org/wiki/2009_Bahrain_Gran...</td>\n      <td>\\N</td>\n      <td>bahrain</td>\n      <td>Bahrain International Circuit</td>\n      <td>Sakhir</td>\n      <td>Bahrain</td>\n      <td>26.03250</td>\n      <td>50.51060</td>\n    </tr>\n    <tr>\n      <th>4</th>\n      <td>5</td>\n      <td>2009</td>\n      <td>5</td>\n      <td>4</td>\n      <td>Spanish Grand Prix</td>\n      <td>2009-05-10</td>\n      <td>12:00:00</td>\n      <td>http://en.wikipedia.org/wiki/2009_Spanish_Gran...</td>\n      <td>\\N</td>\n      <td>catalunya</td>\n      <td>Circuit de Barcelona-Catalunya</td>\n      <td>Montmeló</td>\n      <td>Spain</td>\n      <td>41.57000</td>\n      <td>2.26111</td>\n    </tr>\n  </tbody>\n</table>\n</div>"
     },
     "execution_count": 10,
     "metadata": {},
     "output_type": "execute_result"
    }
   ],
   "source": [
    "races.head()"
   ],
   "metadata": {
    "collapsed": false,
    "ExecuteTime": {
     "end_time": "2025-01-08T14:41:57.213297Z",
     "start_time": "2025-01-08T14:41:57.208945Z"
    }
   },
   "id": "e22d202ff0d9de1c",
   "execution_count": 10
  },
  {
   "cell_type": "code",
   "outputs": [],
   "source": [
    "races.rename(columns={'raceId':'race_id', 'circuitId':'circuit_id', 'name_y':'circuit_name', 'name_x':'race_name', 'location':'city', 'lng':'lon', 'circuitRef': 'circuit_ref'}, inplace=True)"
   ],
   "metadata": {
    "collapsed": false,
    "ExecuteTime": {
     "end_time": "2025-01-08T14:41:57.216875Z",
     "start_time": "2025-01-08T14:41:57.215082Z"
    }
   },
   "id": "1c08dc6c705ae31e",
   "execution_count": 11
  },
  {
   "cell_type": "markdown",
   "source": [
    "###### Replace \\N values with actual null values"
   ],
   "metadata": {
    "collapsed": false
   },
   "id": "68d5c93e5414f8cb"
  },
  {
   "cell_type": "code",
   "outputs": [],
   "source": [
    "races.replace('\\\\N', np.nan, inplace=True)"
   ],
   "metadata": {
    "collapsed": false,
    "ExecuteTime": {
     "end_time": "2025-01-08T14:41:57.219741Z",
     "start_time": "2025-01-08T14:41:57.217550Z"
    }
   },
   "id": "2afee26b65dd4de7",
   "execution_count": 12
  },
  {
   "cell_type": "code",
   "outputs": [
    {
     "data": {
      "text/plain": "   race_id  year  round  circuit_id              race_name        date  \\\n0        1  2009      1           1  Australian Grand Prix  2009-03-29   \n1        2  2009      2           2   Malaysian Grand Prix  2009-04-05   \n2        3  2009      3          17     Chinese Grand Prix  2009-04-19   \n3        4  2009      4           3     Bahrain Grand Prix  2009-04-26   \n4        5  2009      5           4     Spanish Grand Prix  2009-05-10   \n\n       time                                                url sprint_date  \\\n0  06:00:00  http://en.wikipedia.org/wiki/2009_Australian_G...         NaN   \n1  09:00:00  http://en.wikipedia.org/wiki/2009_Malaysian_Gr...         NaN   \n2  07:00:00  http://en.wikipedia.org/wiki/2009_Chinese_Gran...         NaN   \n3  12:00:00  http://en.wikipedia.org/wiki/2009_Bahrain_Gran...         NaN   \n4  12:00:00  http://en.wikipedia.org/wiki/2009_Spanish_Gran...         NaN   \n\n   circuit_ref                    circuit_name          city    country  \\\n0  albert_park  Albert Park Grand Prix Circuit     Melbourne  Australia   \n1       sepang    Sepang International Circuit  Kuala Lumpur   Malaysia   \n2     shanghai  Shanghai International Circuit      Shanghai      China   \n3      bahrain   Bahrain International Circuit        Sakhir    Bahrain   \n4    catalunya  Circuit de Barcelona-Catalunya      Montmeló      Spain   \n\n        lat        lon  \n0 -37.84970  144.96800  \n1   2.76083  101.73800  \n2  31.33890  121.22000  \n3  26.03250   50.51060  \n4  41.57000    2.26111  ",
      "text/html": "<div>\n<style scoped>\n    .dataframe tbody tr th:only-of-type {\n        vertical-align: middle;\n    }\n\n    .dataframe tbody tr th {\n        vertical-align: top;\n    }\n\n    .dataframe thead th {\n        text-align: right;\n    }\n</style>\n<table border=\"1\" class=\"dataframe\">\n  <thead>\n    <tr style=\"text-align: right;\">\n      <th></th>\n      <th>race_id</th>\n      <th>year</th>\n      <th>round</th>\n      <th>circuit_id</th>\n      <th>race_name</th>\n      <th>date</th>\n      <th>time</th>\n      <th>url</th>\n      <th>sprint_date</th>\n      <th>circuit_ref</th>\n      <th>circuit_name</th>\n      <th>city</th>\n      <th>country</th>\n      <th>lat</th>\n      <th>lon</th>\n    </tr>\n  </thead>\n  <tbody>\n    <tr>\n      <th>0</th>\n      <td>1</td>\n      <td>2009</td>\n      <td>1</td>\n      <td>1</td>\n      <td>Australian Grand Prix</td>\n      <td>2009-03-29</td>\n      <td>06:00:00</td>\n      <td>http://en.wikipedia.org/wiki/2009_Australian_G...</td>\n      <td>NaN</td>\n      <td>albert_park</td>\n      <td>Albert Park Grand Prix Circuit</td>\n      <td>Melbourne</td>\n      <td>Australia</td>\n      <td>-37.84970</td>\n      <td>144.96800</td>\n    </tr>\n    <tr>\n      <th>1</th>\n      <td>2</td>\n      <td>2009</td>\n      <td>2</td>\n      <td>2</td>\n      <td>Malaysian Grand Prix</td>\n      <td>2009-04-05</td>\n      <td>09:00:00</td>\n      <td>http://en.wikipedia.org/wiki/2009_Malaysian_Gr...</td>\n      <td>NaN</td>\n      <td>sepang</td>\n      <td>Sepang International Circuit</td>\n      <td>Kuala Lumpur</td>\n      <td>Malaysia</td>\n      <td>2.76083</td>\n      <td>101.73800</td>\n    </tr>\n    <tr>\n      <th>2</th>\n      <td>3</td>\n      <td>2009</td>\n      <td>3</td>\n      <td>17</td>\n      <td>Chinese Grand Prix</td>\n      <td>2009-04-19</td>\n      <td>07:00:00</td>\n      <td>http://en.wikipedia.org/wiki/2009_Chinese_Gran...</td>\n      <td>NaN</td>\n      <td>shanghai</td>\n      <td>Shanghai International Circuit</td>\n      <td>Shanghai</td>\n      <td>China</td>\n      <td>31.33890</td>\n      <td>121.22000</td>\n    </tr>\n    <tr>\n      <th>3</th>\n      <td>4</td>\n      <td>2009</td>\n      <td>4</td>\n      <td>3</td>\n      <td>Bahrain Grand Prix</td>\n      <td>2009-04-26</td>\n      <td>12:00:00</td>\n      <td>http://en.wikipedia.org/wiki/2009_Bahrain_Gran...</td>\n      <td>NaN</td>\n      <td>bahrain</td>\n      <td>Bahrain International Circuit</td>\n      <td>Sakhir</td>\n      <td>Bahrain</td>\n      <td>26.03250</td>\n      <td>50.51060</td>\n    </tr>\n    <tr>\n      <th>4</th>\n      <td>5</td>\n      <td>2009</td>\n      <td>5</td>\n      <td>4</td>\n      <td>Spanish Grand Prix</td>\n      <td>2009-05-10</td>\n      <td>12:00:00</td>\n      <td>http://en.wikipedia.org/wiki/2009_Spanish_Gran...</td>\n      <td>NaN</td>\n      <td>catalunya</td>\n      <td>Circuit de Barcelona-Catalunya</td>\n      <td>Montmeló</td>\n      <td>Spain</td>\n      <td>41.57000</td>\n      <td>2.26111</td>\n    </tr>\n  </tbody>\n</table>\n</div>"
     },
     "execution_count": 13,
     "metadata": {},
     "output_type": "execute_result"
    }
   ],
   "source": [
    "races.head()"
   ],
   "metadata": {
    "collapsed": false,
    "ExecuteTime": {
     "end_time": "2025-01-08T14:41:57.225045Z",
     "start_time": "2025-01-08T14:41:57.220216Z"
    }
   },
   "id": "53e0d2dad17d442",
   "execution_count": 13
  },
  {
   "cell_type": "markdown",
   "source": [
    "#### Save transformed race/circuit data "
   ],
   "metadata": {
    "collapsed": false
   },
   "id": "a28ecc4f58169716"
  },
  {
   "cell_type": "code",
   "outputs": [],
   "source": [
    "races_sprints = races[races['sprint_date'].notna()]"
   ],
   "metadata": {
    "collapsed": false,
    "ExecuteTime": {
     "end_time": "2025-01-08T14:42:29.140645Z",
     "start_time": "2025-01-08T14:42:29.138056Z"
    }
   },
   "id": "5be57f82f025dbb7",
   "execution_count": 18
  },
  {
   "cell_type": "code",
   "outputs": [
    {
     "data": {
      "text/plain": "      race_id  year  round  circuit_id                  race_name        date  \\\n1046     1061  2021     10           9         British Grand Prix  2021-07-18   \n1050     1065  2021     14          14         Italian Grand Prix  2021-09-12   \n1055     1071  2021     19          18       São Paulo Grand Prix  2021-11-14   \n1060     1077  2022      4          21  Emilia Romagna Grand Prix  2022-04-24   \n1067     1084  2022     11          70        Austrian Grand Prix  2022-07-10   \n\n          time                                                url sprint_date  \\\n1046  14:00:00  http://en.wikipedia.org/wiki/2021_British_Gran...  2021-07-17   \n1050  13:00:00  http://en.wikipedia.org/wiki/2021_Italian_Gran...  2021-09-11   \n1055  17:00:00  http://en.wikipedia.org/wiki/2021_S%C3%A3o_Pau...  2021-11-13   \n1060  13:00:00  http://en.wikipedia.org/wiki/2022_Emilia_Romag...  2022-04-23   \n1067  13:00:00  http://en.wikipedia.org/wiki/2022_Austrian_Gra...  2022-07-09   \n\n        circuit_ref                   circuit_name         city  country  \\\n1046    silverstone            Silverstone Circuit  Silverstone       UK   \n1050          monza   Autodromo Nazionale di Monza        Monza    Italy   \n1055     interlagos     Autódromo José Carlos Pace    São Paulo   Brazil   \n1060          imola  Autodromo Enzo e Dino Ferrari        Imola    Italy   \n1067  red_bull_ring                  Red Bull Ring    Spielberg  Austria   \n\n          lat       lon  \n1046  52.0786  -1.01694  \n1050  45.6156   9.28111  \n1055 -23.7036 -46.69970  \n1060  44.3439  11.71670  \n1067  47.2197  14.76470  ",
      "text/html": "<div>\n<style scoped>\n    .dataframe tbody tr th:only-of-type {\n        vertical-align: middle;\n    }\n\n    .dataframe tbody tr th {\n        vertical-align: top;\n    }\n\n    .dataframe thead th {\n        text-align: right;\n    }\n</style>\n<table border=\"1\" class=\"dataframe\">\n  <thead>\n    <tr style=\"text-align: right;\">\n      <th></th>\n      <th>race_id</th>\n      <th>year</th>\n      <th>round</th>\n      <th>circuit_id</th>\n      <th>race_name</th>\n      <th>date</th>\n      <th>time</th>\n      <th>url</th>\n      <th>sprint_date</th>\n      <th>circuit_ref</th>\n      <th>circuit_name</th>\n      <th>city</th>\n      <th>country</th>\n      <th>lat</th>\n      <th>lon</th>\n    </tr>\n  </thead>\n  <tbody>\n    <tr>\n      <th>1046</th>\n      <td>1061</td>\n      <td>2021</td>\n      <td>10</td>\n      <td>9</td>\n      <td>British Grand Prix</td>\n      <td>2021-07-18</td>\n      <td>14:00:00</td>\n      <td>http://en.wikipedia.org/wiki/2021_British_Gran...</td>\n      <td>2021-07-17</td>\n      <td>silverstone</td>\n      <td>Silverstone Circuit</td>\n      <td>Silverstone</td>\n      <td>UK</td>\n      <td>52.0786</td>\n      <td>-1.01694</td>\n    </tr>\n    <tr>\n      <th>1050</th>\n      <td>1065</td>\n      <td>2021</td>\n      <td>14</td>\n      <td>14</td>\n      <td>Italian Grand Prix</td>\n      <td>2021-09-12</td>\n      <td>13:00:00</td>\n      <td>http://en.wikipedia.org/wiki/2021_Italian_Gran...</td>\n      <td>2021-09-11</td>\n      <td>monza</td>\n      <td>Autodromo Nazionale di Monza</td>\n      <td>Monza</td>\n      <td>Italy</td>\n      <td>45.6156</td>\n      <td>9.28111</td>\n    </tr>\n    <tr>\n      <th>1055</th>\n      <td>1071</td>\n      <td>2021</td>\n      <td>19</td>\n      <td>18</td>\n      <td>São Paulo Grand Prix</td>\n      <td>2021-11-14</td>\n      <td>17:00:00</td>\n      <td>http://en.wikipedia.org/wiki/2021_S%C3%A3o_Pau...</td>\n      <td>2021-11-13</td>\n      <td>interlagos</td>\n      <td>Autódromo José Carlos Pace</td>\n      <td>São Paulo</td>\n      <td>Brazil</td>\n      <td>-23.7036</td>\n      <td>-46.69970</td>\n    </tr>\n    <tr>\n      <th>1060</th>\n      <td>1077</td>\n      <td>2022</td>\n      <td>4</td>\n      <td>21</td>\n      <td>Emilia Romagna Grand Prix</td>\n      <td>2022-04-24</td>\n      <td>13:00:00</td>\n      <td>http://en.wikipedia.org/wiki/2022_Emilia_Romag...</td>\n      <td>2022-04-23</td>\n      <td>imola</td>\n      <td>Autodromo Enzo e Dino Ferrari</td>\n      <td>Imola</td>\n      <td>Italy</td>\n      <td>44.3439</td>\n      <td>11.71670</td>\n    </tr>\n    <tr>\n      <th>1067</th>\n      <td>1084</td>\n      <td>2022</td>\n      <td>11</td>\n      <td>70</td>\n      <td>Austrian Grand Prix</td>\n      <td>2022-07-10</td>\n      <td>13:00:00</td>\n      <td>http://en.wikipedia.org/wiki/2022_Austrian_Gra...</td>\n      <td>2022-07-09</td>\n      <td>red_bull_ring</td>\n      <td>Red Bull Ring</td>\n      <td>Spielberg</td>\n      <td>Austria</td>\n      <td>47.2197</td>\n      <td>14.76470</td>\n    </tr>\n  </tbody>\n</table>\n</div>"
     },
     "execution_count": 19,
     "metadata": {},
     "output_type": "execute_result"
    }
   ],
   "source": [
    "races_sprints.head()"
   ],
   "metadata": {
    "collapsed": false,
    "ExecuteTime": {
     "end_time": "2025-01-08T14:42:39.266576Z",
     "start_time": "2025-01-08T14:42:39.247927Z"
    }
   },
   "id": "53ec1b27778df4ce",
   "execution_count": 19
  },
  {
   "cell_type": "code",
   "outputs": [],
   "source": [],
   "metadata": {
    "collapsed": false
   },
   "id": "81497c5a4e5a3ec5"
  },
  {
   "cell_type": "code",
   "outputs": [
    {
     "data": {
      "text/plain": "      race_id  year  round  circuit_id                  race_name        date  \\\n1046     1061  2021     10           9         British Grand Prix  2021-07-18   \n1050     1065  2021     14          14         Italian Grand Prix  2021-09-12   \n1055     1071  2021     19          18       São Paulo Grand Prix  2021-11-14   \n1060     1077  2022      4          21  Emilia Romagna Grand Prix  2022-04-24   \n1067     1084  2022     11          70        Austrian Grand Prix  2022-07-10   \n\n          time                                                url sprint_date  \\\n1046  14:00:00  http://en.wikipedia.org/wiki/2021_British_Gran...  2021-07-17   \n1050  13:00:00  http://en.wikipedia.org/wiki/2021_Italian_Gran...  2021-09-11   \n1055  17:00:00  http://en.wikipedia.org/wiki/2021_S%C3%A3o_Pau...  2021-11-13   \n1060  13:00:00  http://en.wikipedia.org/wiki/2022_Emilia_Romag...  2022-04-23   \n1067  13:00:00  http://en.wikipedia.org/wiki/2022_Austrian_Gra...  2022-07-09   \n\n        circuit_ref                   circuit_name         city  country  \\\n1046    silverstone            Silverstone Circuit  Silverstone       UK   \n1050          monza   Autodromo Nazionale di Monza        Monza    Italy   \n1055     interlagos     Autódromo José Carlos Pace    São Paulo   Brazil   \n1060          imola  Autodromo Enzo e Dino Ferrari        Imola    Italy   \n1067  red_bull_ring                  Red Bull Ring    Spielberg  Austria   \n\n          lat       lon  \n1046  52.0786  -1.01694  \n1050  45.6156   9.28111  \n1055 -23.7036 -46.69970  \n1060  44.3439  11.71670  \n1067  47.2197  14.76470  ",
      "text/html": "<div>\n<style scoped>\n    .dataframe tbody tr th:only-of-type {\n        vertical-align: middle;\n    }\n\n    .dataframe tbody tr th {\n        vertical-align: top;\n    }\n\n    .dataframe thead th {\n        text-align: right;\n    }\n</style>\n<table border=\"1\" class=\"dataframe\">\n  <thead>\n    <tr style=\"text-align: right;\">\n      <th></th>\n      <th>race_id</th>\n      <th>year</th>\n      <th>round</th>\n      <th>circuit_id</th>\n      <th>race_name</th>\n      <th>date</th>\n      <th>time</th>\n      <th>url</th>\n      <th>sprint_date</th>\n      <th>circuit_ref</th>\n      <th>circuit_name</th>\n      <th>city</th>\n      <th>country</th>\n      <th>lat</th>\n      <th>lon</th>\n    </tr>\n  </thead>\n  <tbody>\n    <tr>\n      <th>1046</th>\n      <td>1061</td>\n      <td>2021</td>\n      <td>10</td>\n      <td>9</td>\n      <td>British Grand Prix</td>\n      <td>2021-07-18</td>\n      <td>14:00:00</td>\n      <td>http://en.wikipedia.org/wiki/2021_British_Gran...</td>\n      <td>2021-07-17</td>\n      <td>silverstone</td>\n      <td>Silverstone Circuit</td>\n      <td>Silverstone</td>\n      <td>UK</td>\n      <td>52.0786</td>\n      <td>-1.01694</td>\n    </tr>\n    <tr>\n      <th>1050</th>\n      <td>1065</td>\n      <td>2021</td>\n      <td>14</td>\n      <td>14</td>\n      <td>Italian Grand Prix</td>\n      <td>2021-09-12</td>\n      <td>13:00:00</td>\n      <td>http://en.wikipedia.org/wiki/2021_Italian_Gran...</td>\n      <td>2021-09-11</td>\n      <td>monza</td>\n      <td>Autodromo Nazionale di Monza</td>\n      <td>Monza</td>\n      <td>Italy</td>\n      <td>45.6156</td>\n      <td>9.28111</td>\n    </tr>\n    <tr>\n      <th>1055</th>\n      <td>1071</td>\n      <td>2021</td>\n      <td>19</td>\n      <td>18</td>\n      <td>São Paulo Grand Prix</td>\n      <td>2021-11-14</td>\n      <td>17:00:00</td>\n      <td>http://en.wikipedia.org/wiki/2021_S%C3%A3o_Pau...</td>\n      <td>2021-11-13</td>\n      <td>interlagos</td>\n      <td>Autódromo José Carlos Pace</td>\n      <td>São Paulo</td>\n      <td>Brazil</td>\n      <td>-23.7036</td>\n      <td>-46.69970</td>\n    </tr>\n    <tr>\n      <th>1060</th>\n      <td>1077</td>\n      <td>2022</td>\n      <td>4</td>\n      <td>21</td>\n      <td>Emilia Romagna Grand Prix</td>\n      <td>2022-04-24</td>\n      <td>13:00:00</td>\n      <td>http://en.wikipedia.org/wiki/2022_Emilia_Romag...</td>\n      <td>2022-04-23</td>\n      <td>imola</td>\n      <td>Autodromo Enzo e Dino Ferrari</td>\n      <td>Imola</td>\n      <td>Italy</td>\n      <td>44.3439</td>\n      <td>11.71670</td>\n    </tr>\n    <tr>\n      <th>1067</th>\n      <td>1084</td>\n      <td>2022</td>\n      <td>11</td>\n      <td>70</td>\n      <td>Austrian Grand Prix</td>\n      <td>2022-07-10</td>\n      <td>13:00:00</td>\n      <td>http://en.wikipedia.org/wiki/2022_Austrian_Gra...</td>\n      <td>2022-07-09</td>\n      <td>red_bull_ring</td>\n      <td>Red Bull Ring</td>\n      <td>Spielberg</td>\n      <td>Austria</td>\n      <td>47.2197</td>\n      <td>14.76470</td>\n    </tr>\n  </tbody>\n</table>\n</div>"
     },
     "execution_count": 17,
     "metadata": {},
     "output_type": "execute_result"
    }
   ],
   "source": [
    "# races.to_csv('transformed_data/race_data.csv', index=False)"
   ],
   "metadata": {
    "collapsed": false,
    "ExecuteTime": {
     "end_time": "2025-01-08T14:42:24.341289Z",
     "start_time": "2025-01-08T14:42:24.335391Z"
    }
   },
   "id": "ba063f7843a83995",
   "execution_count": 17
  },
  {
   "cell_type": "code",
   "outputs": [],
   "source": [
    "# races.to_csv('/Users/markrubin/Documents/My Tableau Repository/Datasources/formula1/race_data.csv', index=False)"
   ],
   "metadata": {
    "collapsed": false,
    "ExecuteTime": {
     "end_time": "2025-01-08T14:41:57.916543Z",
     "start_time": "2025-01-08T14:41:57.916506Z"
    }
   },
   "id": "1cb2f03f0b79f345",
   "execution_count": null
  },
  {
   "cell_type": "code",
   "outputs": [],
   "source": [],
   "metadata": {
    "collapsed": false
   },
   "id": "1f9bd3a3a06c943b"
  }
 ],
 "metadata": {
  "kernelspec": {
   "display_name": "Python 3",
   "language": "python",
   "name": "python3"
  },
  "language_info": {
   "codemirror_mode": {
    "name": "ipython",
    "version": 2
   },
   "file_extension": ".py",
   "mimetype": "text/x-python",
   "name": "python",
   "nbconvert_exporter": "python",
   "pygments_lexer": "ipython2",
   "version": "2.7.6"
  }
 },
 "nbformat": 4,
 "nbformat_minor": 5
}

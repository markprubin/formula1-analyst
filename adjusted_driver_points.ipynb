{
 "cells": [
  {
   "cell_type": "code",
   "execution_count": 1,
   "id": "initial_id",
   "metadata": {
    "collapsed": true,
    "ExecuteTime": {
     "end_time": "2025-01-12T18:28:24.171753Z",
     "start_time": "2025-01-12T18:28:23.747177Z"
    }
   },
   "outputs": [],
   "source": [
    "import pandas as pd"
   ]
  },
  {
   "cell_type": "code",
   "outputs": [],
   "source": [
    "drivers = pd.read_csv('f1db_csv/drivers.csv', usecols=['driverId', 'code', 'forename', 'surname', 'dob', 'nationality'])"
   ],
   "metadata": {
    "collapsed": false,
    "ExecuteTime": {
     "end_time": "2025-01-12T18:52:14.301942Z",
     "start_time": "2025-01-12T18:52:14.294769Z"
    }
   },
   "id": "f74d8674ee7c08a8",
   "execution_count": 6
  },
  {
   "cell_type": "code",
   "outputs": [
    {
     "data": {
      "text/plain": "   driverId code  forename     surname         dob nationality\n0         1  HAM     Lewis    Hamilton  1985-01-07     British\n1         2  HEI      Nick    Heidfeld  1977-05-10      German\n2         3  ROS      Nico     Rosberg  1985-06-27      German\n3         4  ALO  Fernando      Alonso  1981-07-29     Spanish\n4         5  KOV    Heikki  Kovalainen  1981-10-19     Finnish",
      "text/html": "<div>\n<style scoped>\n    .dataframe tbody tr th:only-of-type {\n        vertical-align: middle;\n    }\n\n    .dataframe tbody tr th {\n        vertical-align: top;\n    }\n\n    .dataframe thead th {\n        text-align: right;\n    }\n</style>\n<table border=\"1\" class=\"dataframe\">\n  <thead>\n    <tr style=\"text-align: right;\">\n      <th></th>\n      <th>driverId</th>\n      <th>code</th>\n      <th>forename</th>\n      <th>surname</th>\n      <th>dob</th>\n      <th>nationality</th>\n    </tr>\n  </thead>\n  <tbody>\n    <tr>\n      <th>0</th>\n      <td>1</td>\n      <td>HAM</td>\n      <td>Lewis</td>\n      <td>Hamilton</td>\n      <td>1985-01-07</td>\n      <td>British</td>\n    </tr>\n    <tr>\n      <th>1</th>\n      <td>2</td>\n      <td>HEI</td>\n      <td>Nick</td>\n      <td>Heidfeld</td>\n      <td>1977-05-10</td>\n      <td>German</td>\n    </tr>\n    <tr>\n      <th>2</th>\n      <td>3</td>\n      <td>ROS</td>\n      <td>Nico</td>\n      <td>Rosberg</td>\n      <td>1985-06-27</td>\n      <td>German</td>\n    </tr>\n    <tr>\n      <th>3</th>\n      <td>4</td>\n      <td>ALO</td>\n      <td>Fernando</td>\n      <td>Alonso</td>\n      <td>1981-07-29</td>\n      <td>Spanish</td>\n    </tr>\n    <tr>\n      <th>4</th>\n      <td>5</td>\n      <td>KOV</td>\n      <td>Heikki</td>\n      <td>Kovalainen</td>\n      <td>1981-10-19</td>\n      <td>Finnish</td>\n    </tr>\n  </tbody>\n</table>\n</div>"
     },
     "execution_count": 7,
     "metadata": {},
     "output_type": "execute_result"
    }
   ],
   "source": [
    "drivers.head()"
   ],
   "metadata": {
    "collapsed": false,
    "ExecuteTime": {
     "end_time": "2025-01-12T18:52:14.593930Z",
     "start_time": "2025-01-12T18:52:14.586545Z"
    }
   },
   "id": "61e44f36fb7db73d",
   "execution_count": 7
  },
  {
   "cell_type": "code",
   "outputs": [],
   "source": [
    "driver_standings = pd.read_csv('f1db_csv/driver_standings.csv')"
   ],
   "metadata": {
    "collapsed": false,
    "ExecuteTime": {
     "end_time": "2025-01-12T18:52:44.948626Z",
     "start_time": "2025-01-12T18:52:44.927964Z"
    }
   },
   "id": "a476e8d3692f09c0",
   "execution_count": 9
  },
  {
   "cell_type": "code",
   "outputs": [
    {
     "data": {
      "text/plain": "   driverStandingsId  raceId  driverId  points  position positionText  wins\n0                  1      18         1    10.0         1            1     1\n1                  2      18         2     8.0         2            2     0\n2                  3      18         3     6.0         3            3     0\n3                  4      18         4     5.0         4            4     0\n4                  5      18         5     4.0         5            5     0",
      "text/html": "<div>\n<style scoped>\n    .dataframe tbody tr th:only-of-type {\n        vertical-align: middle;\n    }\n\n    .dataframe tbody tr th {\n        vertical-align: top;\n    }\n\n    .dataframe thead th {\n        text-align: right;\n    }\n</style>\n<table border=\"1\" class=\"dataframe\">\n  <thead>\n    <tr style=\"text-align: right;\">\n      <th></th>\n      <th>driverStandingsId</th>\n      <th>raceId</th>\n      <th>driverId</th>\n      <th>points</th>\n      <th>position</th>\n      <th>positionText</th>\n      <th>wins</th>\n    </tr>\n  </thead>\n  <tbody>\n    <tr>\n      <th>0</th>\n      <td>1</td>\n      <td>18</td>\n      <td>1</td>\n      <td>10.0</td>\n      <td>1</td>\n      <td>1</td>\n      <td>1</td>\n    </tr>\n    <tr>\n      <th>1</th>\n      <td>2</td>\n      <td>18</td>\n      <td>2</td>\n      <td>8.0</td>\n      <td>2</td>\n      <td>2</td>\n      <td>0</td>\n    </tr>\n    <tr>\n      <th>2</th>\n      <td>3</td>\n      <td>18</td>\n      <td>3</td>\n      <td>6.0</td>\n      <td>3</td>\n      <td>3</td>\n      <td>0</td>\n    </tr>\n    <tr>\n      <th>3</th>\n      <td>4</td>\n      <td>18</td>\n      <td>4</td>\n      <td>5.0</td>\n      <td>4</td>\n      <td>4</td>\n      <td>0</td>\n    </tr>\n    <tr>\n      <th>4</th>\n      <td>5</td>\n      <td>18</td>\n      <td>5</td>\n      <td>4.0</td>\n      <td>5</td>\n      <td>5</td>\n      <td>0</td>\n    </tr>\n  </tbody>\n</table>\n</div>"
     },
     "execution_count": 10,
     "metadata": {},
     "output_type": "execute_result"
    }
   ],
   "source": [
    "driver_standings.head()"
   ],
   "metadata": {
    "collapsed": false,
    "ExecuteTime": {
     "end_time": "2025-01-12T18:52:49.612792Z",
     "start_time": "2025-01-12T18:52:49.607057Z"
    }
   },
   "id": "8822f3747348a7ec",
   "execution_count": 10
  },
  {
   "cell_type": "markdown",
   "source": [
    "### For each result, we are going to add a column called \"adjusted_points\" to account for the differences in point totals for multiple eras. This way, we can standardize and compare accurately."
   ],
   "metadata": {
    "collapsed": false
   },
   "id": "d1e501aad536352d"
  },
  {
   "cell_type": "code",
   "outputs": [],
   "source": [
    "def calculate_points(position):\n",
    "    points_system = {1: 25, 2: 18, 3: 15, 4: 12, 5: 10, 6: 8, 7: 6, 8: 4, 9: 2, 10: 1}\n",
    "    return points_system.get(position, 0)"
   ],
   "metadata": {
    "collapsed": false,
    "ExecuteTime": {
     "end_time": "2025-01-12T19:26:10.201355Z",
     "start_time": "2025-01-12T19:26:10.194686Z"
    }
   },
   "id": "eb7218d19459c364",
   "execution_count": 17
  },
  {
   "cell_type": "code",
   "outputs": [],
   "source": [
    "driver_standings['adjustedPoints'] = driver_standings['position'].apply(calculate_points)"
   ],
   "metadata": {
    "collapsed": false,
    "ExecuteTime": {
     "end_time": "2025-01-12T19:26:52.006738Z",
     "start_time": "2025-01-12T19:26:51.985009Z"
    }
   },
   "id": "414b93d57ed06d80",
   "execution_count": 18
  },
  {
   "cell_type": "code",
   "outputs": [
    {
     "data": {
      "text/plain": "   driverStandingsId  raceId  driverId  points  position positionText  wins  \\\n0                  1      18         1    10.0         1            1     1   \n1                  2      18         2     8.0         2            2     0   \n2                  3      18         3     6.0         3            3     0   \n3                  4      18         4     5.0         4            4     0   \n4                  5      18         5     4.0         5            5     0   \n\n   adjustedPoints  \n0              25  \n1              18  \n2              15  \n3              12  \n4              10  ",
      "text/html": "<div>\n<style scoped>\n    .dataframe tbody tr th:only-of-type {\n        vertical-align: middle;\n    }\n\n    .dataframe tbody tr th {\n        vertical-align: top;\n    }\n\n    .dataframe thead th {\n        text-align: right;\n    }\n</style>\n<table border=\"1\" class=\"dataframe\">\n  <thead>\n    <tr style=\"text-align: right;\">\n      <th></th>\n      <th>driverStandingsId</th>\n      <th>raceId</th>\n      <th>driverId</th>\n      <th>points</th>\n      <th>position</th>\n      <th>positionText</th>\n      <th>wins</th>\n      <th>adjustedPoints</th>\n    </tr>\n  </thead>\n  <tbody>\n    <tr>\n      <th>0</th>\n      <td>1</td>\n      <td>18</td>\n      <td>1</td>\n      <td>10.0</td>\n      <td>1</td>\n      <td>1</td>\n      <td>1</td>\n      <td>25</td>\n    </tr>\n    <tr>\n      <th>1</th>\n      <td>2</td>\n      <td>18</td>\n      <td>2</td>\n      <td>8.0</td>\n      <td>2</td>\n      <td>2</td>\n      <td>0</td>\n      <td>18</td>\n    </tr>\n    <tr>\n      <th>2</th>\n      <td>3</td>\n      <td>18</td>\n      <td>3</td>\n      <td>6.0</td>\n      <td>3</td>\n      <td>3</td>\n      <td>0</td>\n      <td>15</td>\n    </tr>\n    <tr>\n      <th>3</th>\n      <td>4</td>\n      <td>18</td>\n      <td>4</td>\n      <td>5.0</td>\n      <td>4</td>\n      <td>4</td>\n      <td>0</td>\n      <td>12</td>\n    </tr>\n    <tr>\n      <th>4</th>\n      <td>5</td>\n      <td>18</td>\n      <td>5</td>\n      <td>4.0</td>\n      <td>5</td>\n      <td>5</td>\n      <td>0</td>\n      <td>10</td>\n    </tr>\n  </tbody>\n</table>\n</div>"
     },
     "execution_count": 19,
     "metadata": {},
     "output_type": "execute_result"
    }
   ],
   "source": [
    "driver_standings.head()"
   ],
   "metadata": {
    "collapsed": false,
    "ExecuteTime": {
     "end_time": "2025-01-12T19:26:56.820730Z",
     "start_time": "2025-01-12T19:26:56.814973Z"
    }
   },
   "id": "597dc8e3078778af",
   "execution_count": 19
  },
  {
   "cell_type": "code",
   "outputs": [],
   "source": [
    "columns_order = ['driverStandingsId', 'raceId', 'driverId', 'position', 'positionText',\n",
    "                 'adjustedPoints', 'points', 'wins']\n",
    "driver_standings = driver_standings[columns_order]"
   ],
   "metadata": {
    "collapsed": false,
    "ExecuteTime": {
     "end_time": "2025-01-12T19:29:26.579631Z",
     "start_time": "2025-01-12T19:29:26.553346Z"
    }
   },
   "id": "8168b4f6762bcb57",
   "execution_count": 20
  },
  {
   "cell_type": "code",
   "outputs": [
    {
     "data": {
      "text/plain": "   driverStandingsId  raceId  driverId  position positionText  adjustedPoints  \\\n0                  1      18         1         1            1              25   \n1                  2      18         2         2            2              18   \n2                  3      18         3         3            3              15   \n3                  4      18         4         4            4              12   \n4                  5      18         5         5            5              10   \n\n   points  wins  \n0    10.0     1  \n1     8.0     0  \n2     6.0     0  \n3     5.0     0  \n4     4.0     0  ",
      "text/html": "<div>\n<style scoped>\n    .dataframe tbody tr th:only-of-type {\n        vertical-align: middle;\n    }\n\n    .dataframe tbody tr th {\n        vertical-align: top;\n    }\n\n    .dataframe thead th {\n        text-align: right;\n    }\n</style>\n<table border=\"1\" class=\"dataframe\">\n  <thead>\n    <tr style=\"text-align: right;\">\n      <th></th>\n      <th>driverStandingsId</th>\n      <th>raceId</th>\n      <th>driverId</th>\n      <th>position</th>\n      <th>positionText</th>\n      <th>adjustedPoints</th>\n      <th>points</th>\n      <th>wins</th>\n    </tr>\n  </thead>\n  <tbody>\n    <tr>\n      <th>0</th>\n      <td>1</td>\n      <td>18</td>\n      <td>1</td>\n      <td>1</td>\n      <td>1</td>\n      <td>25</td>\n      <td>10.0</td>\n      <td>1</td>\n    </tr>\n    <tr>\n      <th>1</th>\n      <td>2</td>\n      <td>18</td>\n      <td>2</td>\n      <td>2</td>\n      <td>2</td>\n      <td>18</td>\n      <td>8.0</td>\n      <td>0</td>\n    </tr>\n    <tr>\n      <th>2</th>\n      <td>3</td>\n      <td>18</td>\n      <td>3</td>\n      <td>3</td>\n      <td>3</td>\n      <td>15</td>\n      <td>6.0</td>\n      <td>0</td>\n    </tr>\n    <tr>\n      <th>3</th>\n      <td>4</td>\n      <td>18</td>\n      <td>4</td>\n      <td>4</td>\n      <td>4</td>\n      <td>12</td>\n      <td>5.0</td>\n      <td>0</td>\n    </tr>\n    <tr>\n      <th>4</th>\n      <td>5</td>\n      <td>18</td>\n      <td>5</td>\n      <td>5</td>\n      <td>5</td>\n      <td>10</td>\n      <td>4.0</td>\n      <td>0</td>\n    </tr>\n  </tbody>\n</table>\n</div>"
     },
     "execution_count": 21,
     "metadata": {},
     "output_type": "execute_result"
    }
   ],
   "source": [
    "driver_standings.head()"
   ],
   "metadata": {
    "collapsed": false,
    "ExecuteTime": {
     "end_time": "2025-01-12T19:29:29.484260Z",
     "start_time": "2025-01-12T19:29:29.479594Z"
    }
   },
   "id": "a038b2ec857e0638",
   "execution_count": 21
  },
  {
   "cell_type": "code",
   "outputs": [],
   "source": [
    "driver_standings.to_csv('transformed_data/adjusted_driver_points.csv', index=False)"
   ],
   "metadata": {
    "collapsed": false,
    "ExecuteTime": {
     "end_time": "2025-01-12T19:31:52.600064Z",
     "start_time": "2025-01-12T19:31:52.542623Z"
    }
   },
   "id": "e9f10bce8ef3f939",
   "execution_count": 22
  },
  {
   "cell_type": "code",
   "outputs": [],
   "source": [],
   "metadata": {
    "collapsed": false
   },
   "id": "175577354f492f7d"
  }
 ],
 "metadata": {
  "kernelspec": {
   "display_name": "Python 3",
   "language": "python",
   "name": "python3"
  },
  "language_info": {
   "codemirror_mode": {
    "name": "ipython",
    "version": 2
   },
   "file_extension": ".py",
   "mimetype": "text/x-python",
   "name": "python",
   "nbconvert_exporter": "python",
   "pygments_lexer": "ipython2",
   "version": "2.7.6"
  }
 },
 "nbformat": 4,
 "nbformat_minor": 5
}

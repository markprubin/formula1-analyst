{
 "cells": [
  {
   "cell_type": "code",
   "execution_count": 1,
   "id": "initial_id",
   "metadata": {
    "collapsed": true,
    "ExecuteTime": {
     "end_time": "2025-01-09T05:35:52.839056Z",
     "start_time": "2025-01-09T05:35:52.484428Z"
    }
   },
   "outputs": [],
   "source": [
    "import pandas as pd"
   ]
  },
  {
   "cell_type": "code",
   "outputs": [],
   "source": [
    "constructors = pd.read_csv('f1db_csv/constructors.csv')\n",
    "constructor_standings = pd.read_csv('f1db_csv/constructor_standings.csv')\n",
    "constructor_results = pd.read_csv('f1db_csv/constructor_results.csv')"
   ],
   "metadata": {
    "collapsed": false,
    "ExecuteTime": {
     "end_time": "2025-01-09T05:38:36.652654Z",
     "start_time": "2025-01-09T05:38:36.616584Z"
    }
   },
   "id": "c96a6f0744e5d98",
   "execution_count": 6
  },
  {
   "cell_type": "code",
   "outputs": [
    {
     "data": {
      "text/plain": "   constructorId constructorRef        name nationality  \\\n0              1        mclaren     McLaren     British   \n1              2     bmw_sauber  BMW Sauber      German   \n2              3       williams    Williams     British   \n3              4        renault     Renault      French   \n4              5     toro_rosso  Toro Rosso     Italian   \n\n                                                 url  \n0               http://en.wikipedia.org/wiki/McLaren  \n1            http://en.wikipedia.org/wiki/BMW_Sauber  \n2  http://en.wikipedia.org/wiki/Williams_Grand_Pr...  \n3  http://en.wikipedia.org/wiki/Renault_in_Formul...  \n4   http://en.wikipedia.org/wiki/Scuderia_Toro_Rosso  ",
      "text/html": "<div>\n<style scoped>\n    .dataframe tbody tr th:only-of-type {\n        vertical-align: middle;\n    }\n\n    .dataframe tbody tr th {\n        vertical-align: top;\n    }\n\n    .dataframe thead th {\n        text-align: right;\n    }\n</style>\n<table border=\"1\" class=\"dataframe\">\n  <thead>\n    <tr style=\"text-align: right;\">\n      <th></th>\n      <th>constructorId</th>\n      <th>constructorRef</th>\n      <th>name</th>\n      <th>nationality</th>\n      <th>url</th>\n    </tr>\n  </thead>\n  <tbody>\n    <tr>\n      <th>0</th>\n      <td>1</td>\n      <td>mclaren</td>\n      <td>McLaren</td>\n      <td>British</td>\n      <td>http://en.wikipedia.org/wiki/McLaren</td>\n    </tr>\n    <tr>\n      <th>1</th>\n      <td>2</td>\n      <td>bmw_sauber</td>\n      <td>BMW Sauber</td>\n      <td>German</td>\n      <td>http://en.wikipedia.org/wiki/BMW_Sauber</td>\n    </tr>\n    <tr>\n      <th>2</th>\n      <td>3</td>\n      <td>williams</td>\n      <td>Williams</td>\n      <td>British</td>\n      <td>http://en.wikipedia.org/wiki/Williams_Grand_Pr...</td>\n    </tr>\n    <tr>\n      <th>3</th>\n      <td>4</td>\n      <td>renault</td>\n      <td>Renault</td>\n      <td>French</td>\n      <td>http://en.wikipedia.org/wiki/Renault_in_Formul...</td>\n    </tr>\n    <tr>\n      <th>4</th>\n      <td>5</td>\n      <td>toro_rosso</td>\n      <td>Toro Rosso</td>\n      <td>Italian</td>\n      <td>http://en.wikipedia.org/wiki/Scuderia_Toro_Rosso</td>\n    </tr>\n  </tbody>\n</table>\n</div>"
     },
     "execution_count": 7,
     "metadata": {},
     "output_type": "execute_result"
    }
   ],
   "source": [
    "constructors.head()"
   ],
   "metadata": {
    "collapsed": false,
    "ExecuteTime": {
     "end_time": "2025-01-09T05:38:38.387270Z",
     "start_time": "2025-01-09T05:38:38.381783Z"
    }
   },
   "id": "4a4cdd2433924201",
   "execution_count": 7
  },
  {
   "cell_type": "code",
   "outputs": [
    {
     "data": {
      "text/plain": "   constructorResultsId  raceId  constructorId  points status\n0                     1      18              1    14.0     \\N\n1                     2      18              2     8.0     \\N\n2                     3      18              3     9.0     \\N\n3                     4      18              4     5.0     \\N\n4                     5      18              5     2.0     \\N",
      "text/html": "<div>\n<style scoped>\n    .dataframe tbody tr th:only-of-type {\n        vertical-align: middle;\n    }\n\n    .dataframe tbody tr th {\n        vertical-align: top;\n    }\n\n    .dataframe thead th {\n        text-align: right;\n    }\n</style>\n<table border=\"1\" class=\"dataframe\">\n  <thead>\n    <tr style=\"text-align: right;\">\n      <th></th>\n      <th>constructorResultsId</th>\n      <th>raceId</th>\n      <th>constructorId</th>\n      <th>points</th>\n      <th>status</th>\n    </tr>\n  </thead>\n  <tbody>\n    <tr>\n      <th>0</th>\n      <td>1</td>\n      <td>18</td>\n      <td>1</td>\n      <td>14.0</td>\n      <td>\\N</td>\n    </tr>\n    <tr>\n      <th>1</th>\n      <td>2</td>\n      <td>18</td>\n      <td>2</td>\n      <td>8.0</td>\n      <td>\\N</td>\n    </tr>\n    <tr>\n      <th>2</th>\n      <td>3</td>\n      <td>18</td>\n      <td>3</td>\n      <td>9.0</td>\n      <td>\\N</td>\n    </tr>\n    <tr>\n      <th>3</th>\n      <td>4</td>\n      <td>18</td>\n      <td>4</td>\n      <td>5.0</td>\n      <td>\\N</td>\n    </tr>\n    <tr>\n      <th>4</th>\n      <td>5</td>\n      <td>18</td>\n      <td>5</td>\n      <td>2.0</td>\n      <td>\\N</td>\n    </tr>\n  </tbody>\n</table>\n</div>"
     },
     "execution_count": 13,
     "metadata": {},
     "output_type": "execute_result"
    }
   ],
   "source": [
    "constructor_results"
   ],
   "metadata": {
    "collapsed": false,
    "ExecuteTime": {
     "end_time": "2025-01-09T05:40:56.592206Z",
     "start_time": "2025-01-09T05:40:56.564415Z"
    }
   },
   "id": "9895b5bfaca37f",
   "execution_count": 13
  },
  {
   "cell_type": "code",
   "outputs": [],
   "source": [],
   "metadata": {
    "collapsed": false
   },
   "id": "3bf2654d3f96dc0f"
  }
 ],
 "metadata": {
  "kernelspec": {
   "display_name": "Python 3",
   "language": "python",
   "name": "python3"
  },
  "language_info": {
   "codemirror_mode": {
    "name": "ipython",
    "version": 2
   },
   "file_extension": ".py",
   "mimetype": "text/x-python",
   "name": "python",
   "nbconvert_exporter": "python",
   "pygments_lexer": "ipython2",
   "version": "2.7.6"
  }
 },
 "nbformat": 4,
 "nbformat_minor": 5
}

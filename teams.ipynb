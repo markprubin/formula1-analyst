{
 "cells": [
  {
   "cell_type": "code",
   "execution_count": 1,
   "id": "initial_id",
   "metadata": {
    "collapsed": true,
    "ExecuteTime": {
     "end_time": "2025-01-09T05:35:52.839056Z",
     "start_time": "2025-01-09T05:35:52.484428Z"
    }
   },
   "outputs": [],
   "source": [
    "import pandas as pd"
   ]
  },
  {
   "cell_type": "code",
   "outputs": [],
   "source": [
    "constructors = pd.read_csv('f1db_csv/constructors.csv')\n",
    "constructor_standings = pd.read_csv('f1db_csv/constructor_standings.csv')\n",
    "constructor_results = pd.read_csv('f1db_csv/constructor_results.csv')"
   ],
   "metadata": {
    "collapsed": false,
    "ExecuteTime": {
     "end_time": "2025-01-09T05:38:36.652654Z",
     "start_time": "2025-01-09T05:38:36.616584Z"
    }
   },
   "id": "c96a6f0744e5d98",
   "execution_count": 6
  },
  {
   "cell_type": "code",
   "outputs": [
    {
     "data": {
      "text/plain": "   constructorId constructorRef         name nationality  \\\n0              1        mclaren      McLaren     British   \n1              2     bmw_sauber   BMW Sauber      German   \n2              3       williams     Williams     British   \n3              4        renault      Renault      French   \n4              5     toro_rosso   Toro Rosso     Italian   \n5              6        ferrari      Ferrari     Italian   \n6              7         toyota       Toyota    Japanese   \n7              8    super_aguri  Super Aguri    Japanese   \n8              9       red_bull     Red Bull    Austrian   \n9             10    force_india  Force India      Indian   \n\n                                                 url  \n0               http://en.wikipedia.org/wiki/McLaren  \n1            http://en.wikipedia.org/wiki/BMW_Sauber  \n2  http://en.wikipedia.org/wiki/Williams_Grand_Pr...  \n3  http://en.wikipedia.org/wiki/Renault_in_Formul...  \n4   http://en.wikipedia.org/wiki/Scuderia_Toro_Rosso  \n5      http://en.wikipedia.org/wiki/Scuderia_Ferrari  \n6         http://en.wikipedia.org/wiki/Toyota_Racing  \n7        http://en.wikipedia.org/wiki/Super_Aguri_F1  \n8       http://en.wikipedia.org/wiki/Red_Bull_Racing  \n9  http://en.wikipedia.org/wiki/Racing_Point_Forc...  ",
      "text/html": "<div>\n<style scoped>\n    .dataframe tbody tr th:only-of-type {\n        vertical-align: middle;\n    }\n\n    .dataframe tbody tr th {\n        vertical-align: top;\n    }\n\n    .dataframe thead th {\n        text-align: right;\n    }\n</style>\n<table border=\"1\" class=\"dataframe\">\n  <thead>\n    <tr style=\"text-align: right;\">\n      <th></th>\n      <th>constructorId</th>\n      <th>constructorRef</th>\n      <th>name</th>\n      <th>nationality</th>\n      <th>url</th>\n    </tr>\n  </thead>\n  <tbody>\n    <tr>\n      <th>0</th>\n      <td>1</td>\n      <td>mclaren</td>\n      <td>McLaren</td>\n      <td>British</td>\n      <td>http://en.wikipedia.org/wiki/McLaren</td>\n    </tr>\n    <tr>\n      <th>1</th>\n      <td>2</td>\n      <td>bmw_sauber</td>\n      <td>BMW Sauber</td>\n      <td>German</td>\n      <td>http://en.wikipedia.org/wiki/BMW_Sauber</td>\n    </tr>\n    <tr>\n      <th>2</th>\n      <td>3</td>\n      <td>williams</td>\n      <td>Williams</td>\n      <td>British</td>\n      <td>http://en.wikipedia.org/wiki/Williams_Grand_Pr...</td>\n    </tr>\n    <tr>\n      <th>3</th>\n      <td>4</td>\n      <td>renault</td>\n      <td>Renault</td>\n      <td>French</td>\n      <td>http://en.wikipedia.org/wiki/Renault_in_Formul...</td>\n    </tr>\n    <tr>\n      <th>4</th>\n      <td>5</td>\n      <td>toro_rosso</td>\n      <td>Toro Rosso</td>\n      <td>Italian</td>\n      <td>http://en.wikipedia.org/wiki/Scuderia_Toro_Rosso</td>\n    </tr>\n    <tr>\n      <th>5</th>\n      <td>6</td>\n      <td>ferrari</td>\n      <td>Ferrari</td>\n      <td>Italian</td>\n      <td>http://en.wikipedia.org/wiki/Scuderia_Ferrari</td>\n    </tr>\n    <tr>\n      <th>6</th>\n      <td>7</td>\n      <td>toyota</td>\n      <td>Toyota</td>\n      <td>Japanese</td>\n      <td>http://en.wikipedia.org/wiki/Toyota_Racing</td>\n    </tr>\n    <tr>\n      <th>7</th>\n      <td>8</td>\n      <td>super_aguri</td>\n      <td>Super Aguri</td>\n      <td>Japanese</td>\n      <td>http://en.wikipedia.org/wiki/Super_Aguri_F1</td>\n    </tr>\n    <tr>\n      <th>8</th>\n      <td>9</td>\n      <td>red_bull</td>\n      <td>Red Bull</td>\n      <td>Austrian</td>\n      <td>http://en.wikipedia.org/wiki/Red_Bull_Racing</td>\n    </tr>\n    <tr>\n      <th>9</th>\n      <td>10</td>\n      <td>force_india</td>\n      <td>Force India</td>\n      <td>Indian</td>\n      <td>http://en.wikipedia.org/wiki/Racing_Point_Forc...</td>\n    </tr>\n  </tbody>\n</table>\n</div>"
     },
     "execution_count": 16,
     "metadata": {},
     "output_type": "execute_result"
    }
   ],
   "source": [
    "constructors.head(10)"
   ],
   "metadata": {
    "collapsed": false,
    "ExecuteTime": {
     "end_time": "2025-01-10T14:09:18.391650Z",
     "start_time": "2025-01-10T14:09:18.387287Z"
    }
   },
   "id": "4a4cdd2433924201",
   "execution_count": 16
  },
  {
   "cell_type": "code",
   "outputs": [
    {
     "data": {
      "text/plain": "       constructorResultsId  raceId  constructorId  points status\n12575                 17080    1140              6    41.0     \\N\n12576                 17081    1140              1    22.0     \\N\n12577                 17082    1140            131    22.0     \\N\n12578                 17083    1140              9     8.0     \\N\n12579                 17084    1140            210     8.0     \\N\n12580                 17085    1140            214     1.0     \\N\n12581                 17086    1140            117     0.0     \\N\n12582                 17087    1140              3     0.0     \\N\n12583                 17088    1140             15     0.0     \\N\n12584                 17089    1140            215     0.0     \\N\n12585                 17090    1141              9    32.0     \\N\n12586                 17091    1141            214    35.0     \\N\n12587                 17092    1141            131    16.0     \\N\n12588                 17093    1141              6    20.0     \\N\n12589                 17094    1141              1    27.0     \\N\n12590                 17095    1141            215     8.0     \\N\n12591                 17096    1141            210     0.0     \\N\n12592                 17097    1141             15     0.0     \\N\n12593                 17098    1141            117     0.0     \\N\n12594                 17099    1141              3     0.0     \\N\n12595                 17100    1142            131    43.0     \\N\n12596                 17101    1142              6    27.0     \\N\n12597                 17102    1142              9    11.0     \\N\n12598                 17103    1142              1    15.0     \\N\n12599                 17104    1142            210     4.0     \\N\n12600                 17105    1142            215     2.0     \\N\n12601                 17106    1142            117     0.0     \\N\n12602                 17107    1142             15     0.0     \\N\n12603                 17108    1142              3     0.0     \\N\n12604                 17109    1142            214     0.0     \\N\n12605                 17110    1143              9    26.0     \\N\n12606                 17111    1143              6    35.0     \\N\n12607                 17112    1143              1    32.0     \\N\n12608                 17113    1143            131    21.0     \\N\n12609                 17114    1143            214    10.0     \\N\n12610                 17115    1143            117     6.0     \\N\n12611                 17116    1143             15     4.0     \\N\n12612                 17117    1143            210     4.0     \\N\n12613                 17118    1143            215     0.0     \\N\n12614                 17119    1143              3     0.0     \\N\n12615                 17120    1144              1    26.0     \\N\n12616                 17121    1144              6    33.0     \\N\n12617                 17122    1144            131    22.0     \\N\n12618                 17123    1144              9     8.0     \\N\n12619                 17124    1144            214     6.0     \\N\n12620                 17125    1144            210     4.0     \\N\n12621                 17126    1144            117     2.0     \\N\n12622                 17127    1144              3     0.0     \\N\n12623                 17128    1144            215     0.0     \\N\n12624                 17129    1144             15     0.0     \\N",
      "text/html": "<div>\n<style scoped>\n    .dataframe tbody tr th:only-of-type {\n        vertical-align: middle;\n    }\n\n    .dataframe tbody tr th {\n        vertical-align: top;\n    }\n\n    .dataframe thead th {\n        text-align: right;\n    }\n</style>\n<table border=\"1\" class=\"dataframe\">\n  <thead>\n    <tr style=\"text-align: right;\">\n      <th></th>\n      <th>constructorResultsId</th>\n      <th>raceId</th>\n      <th>constructorId</th>\n      <th>points</th>\n      <th>status</th>\n    </tr>\n  </thead>\n  <tbody>\n    <tr>\n      <th>12575</th>\n      <td>17080</td>\n      <td>1140</td>\n      <td>6</td>\n      <td>41.0</td>\n      <td>\\N</td>\n    </tr>\n    <tr>\n      <th>12576</th>\n      <td>17081</td>\n      <td>1140</td>\n      <td>1</td>\n      <td>22.0</td>\n      <td>\\N</td>\n    </tr>\n    <tr>\n      <th>12577</th>\n      <td>17082</td>\n      <td>1140</td>\n      <td>131</td>\n      <td>22.0</td>\n      <td>\\N</td>\n    </tr>\n    <tr>\n      <th>12578</th>\n      <td>17083</td>\n      <td>1140</td>\n      <td>9</td>\n      <td>8.0</td>\n      <td>\\N</td>\n    </tr>\n    <tr>\n      <th>12579</th>\n      <td>17084</td>\n      <td>1140</td>\n      <td>210</td>\n      <td>8.0</td>\n      <td>\\N</td>\n    </tr>\n    <tr>\n      <th>12580</th>\n      <td>17085</td>\n      <td>1140</td>\n      <td>214</td>\n      <td>1.0</td>\n      <td>\\N</td>\n    </tr>\n    <tr>\n      <th>12581</th>\n      <td>17086</td>\n      <td>1140</td>\n      <td>117</td>\n      <td>0.0</td>\n      <td>\\N</td>\n    </tr>\n    <tr>\n      <th>12582</th>\n      <td>17087</td>\n      <td>1140</td>\n      <td>3</td>\n      <td>0.0</td>\n      <td>\\N</td>\n    </tr>\n    <tr>\n      <th>12583</th>\n      <td>17088</td>\n      <td>1140</td>\n      <td>15</td>\n      <td>0.0</td>\n      <td>\\N</td>\n    </tr>\n    <tr>\n      <th>12584</th>\n      <td>17089</td>\n      <td>1140</td>\n      <td>215</td>\n      <td>0.0</td>\n      <td>\\N</td>\n    </tr>\n    <tr>\n      <th>12585</th>\n      <td>17090</td>\n      <td>1141</td>\n      <td>9</td>\n      <td>32.0</td>\n      <td>\\N</td>\n    </tr>\n    <tr>\n      <th>12586</th>\n      <td>17091</td>\n      <td>1141</td>\n      <td>214</td>\n      <td>35.0</td>\n      <td>\\N</td>\n    </tr>\n    <tr>\n      <th>12587</th>\n      <td>17092</td>\n      <td>1141</td>\n      <td>131</td>\n      <td>16.0</td>\n      <td>\\N</td>\n    </tr>\n    <tr>\n      <th>12588</th>\n      <td>17093</td>\n      <td>1141</td>\n      <td>6</td>\n      <td>20.0</td>\n      <td>\\N</td>\n    </tr>\n    <tr>\n      <th>12589</th>\n      <td>17094</td>\n      <td>1141</td>\n      <td>1</td>\n      <td>27.0</td>\n      <td>\\N</td>\n    </tr>\n    <tr>\n      <th>12590</th>\n      <td>17095</td>\n      <td>1141</td>\n      <td>215</td>\n      <td>8.0</td>\n      <td>\\N</td>\n    </tr>\n    <tr>\n      <th>12591</th>\n      <td>17096</td>\n      <td>1141</td>\n      <td>210</td>\n      <td>0.0</td>\n      <td>\\N</td>\n    </tr>\n    <tr>\n      <th>12592</th>\n      <td>17097</td>\n      <td>1141</td>\n      <td>15</td>\n      <td>0.0</td>\n      <td>\\N</td>\n    </tr>\n    <tr>\n      <th>12593</th>\n      <td>17098</td>\n      <td>1141</td>\n      <td>117</td>\n      <td>0.0</td>\n      <td>\\N</td>\n    </tr>\n    <tr>\n      <th>12594</th>\n      <td>17099</td>\n      <td>1141</td>\n      <td>3</td>\n      <td>0.0</td>\n      <td>\\N</td>\n    </tr>\n    <tr>\n      <th>12595</th>\n      <td>17100</td>\n      <td>1142</td>\n      <td>131</td>\n      <td>43.0</td>\n      <td>\\N</td>\n    </tr>\n    <tr>\n      <th>12596</th>\n      <td>17101</td>\n      <td>1142</td>\n      <td>6</td>\n      <td>27.0</td>\n      <td>\\N</td>\n    </tr>\n    <tr>\n      <th>12597</th>\n      <td>17102</td>\n      <td>1142</td>\n      <td>9</td>\n      <td>11.0</td>\n      <td>\\N</td>\n    </tr>\n    <tr>\n      <th>12598</th>\n      <td>17103</td>\n      <td>1142</td>\n      <td>1</td>\n      <td>15.0</td>\n      <td>\\N</td>\n    </tr>\n    <tr>\n      <th>12599</th>\n      <td>17104</td>\n      <td>1142</td>\n      <td>210</td>\n      <td>4.0</td>\n      <td>\\N</td>\n    </tr>\n    <tr>\n      <th>12600</th>\n      <td>17105</td>\n      <td>1142</td>\n      <td>215</td>\n      <td>2.0</td>\n      <td>\\N</td>\n    </tr>\n    <tr>\n      <th>12601</th>\n      <td>17106</td>\n      <td>1142</td>\n      <td>117</td>\n      <td>0.0</td>\n      <td>\\N</td>\n    </tr>\n    <tr>\n      <th>12602</th>\n      <td>17107</td>\n      <td>1142</td>\n      <td>15</td>\n      <td>0.0</td>\n      <td>\\N</td>\n    </tr>\n    <tr>\n      <th>12603</th>\n      <td>17108</td>\n      <td>1142</td>\n      <td>3</td>\n      <td>0.0</td>\n      <td>\\N</td>\n    </tr>\n    <tr>\n      <th>12604</th>\n      <td>17109</td>\n      <td>1142</td>\n      <td>214</td>\n      <td>0.0</td>\n      <td>\\N</td>\n    </tr>\n    <tr>\n      <th>12605</th>\n      <td>17110</td>\n      <td>1143</td>\n      <td>9</td>\n      <td>26.0</td>\n      <td>\\N</td>\n    </tr>\n    <tr>\n      <th>12606</th>\n      <td>17111</td>\n      <td>1143</td>\n      <td>6</td>\n      <td>35.0</td>\n      <td>\\N</td>\n    </tr>\n    <tr>\n      <th>12607</th>\n      <td>17112</td>\n      <td>1143</td>\n      <td>1</td>\n      <td>32.0</td>\n      <td>\\N</td>\n    </tr>\n    <tr>\n      <th>12608</th>\n      <td>17113</td>\n      <td>1143</td>\n      <td>131</td>\n      <td>21.0</td>\n      <td>\\N</td>\n    </tr>\n    <tr>\n      <th>12609</th>\n      <td>17114</td>\n      <td>1143</td>\n      <td>214</td>\n      <td>10.0</td>\n      <td>\\N</td>\n    </tr>\n    <tr>\n      <th>12610</th>\n      <td>17115</td>\n      <td>1143</td>\n      <td>117</td>\n      <td>6.0</td>\n      <td>\\N</td>\n    </tr>\n    <tr>\n      <th>12611</th>\n      <td>17116</td>\n      <td>1143</td>\n      <td>15</td>\n      <td>4.0</td>\n      <td>\\N</td>\n    </tr>\n    <tr>\n      <th>12612</th>\n      <td>17117</td>\n      <td>1143</td>\n      <td>210</td>\n      <td>4.0</td>\n      <td>\\N</td>\n    </tr>\n    <tr>\n      <th>12613</th>\n      <td>17118</td>\n      <td>1143</td>\n      <td>215</td>\n      <td>0.0</td>\n      <td>\\N</td>\n    </tr>\n    <tr>\n      <th>12614</th>\n      <td>17119</td>\n      <td>1143</td>\n      <td>3</td>\n      <td>0.0</td>\n      <td>\\N</td>\n    </tr>\n    <tr>\n      <th>12615</th>\n      <td>17120</td>\n      <td>1144</td>\n      <td>1</td>\n      <td>26.0</td>\n      <td>\\N</td>\n    </tr>\n    <tr>\n      <th>12616</th>\n      <td>17121</td>\n      <td>1144</td>\n      <td>6</td>\n      <td>33.0</td>\n      <td>\\N</td>\n    </tr>\n    <tr>\n      <th>12617</th>\n      <td>17122</td>\n      <td>1144</td>\n      <td>131</td>\n      <td>22.0</td>\n      <td>\\N</td>\n    </tr>\n    <tr>\n      <th>12618</th>\n      <td>17123</td>\n      <td>1144</td>\n      <td>9</td>\n      <td>8.0</td>\n      <td>\\N</td>\n    </tr>\n    <tr>\n      <th>12619</th>\n      <td>17124</td>\n      <td>1144</td>\n      <td>214</td>\n      <td>6.0</td>\n      <td>\\N</td>\n    </tr>\n    <tr>\n      <th>12620</th>\n      <td>17125</td>\n      <td>1144</td>\n      <td>210</td>\n      <td>4.0</td>\n      <td>\\N</td>\n    </tr>\n    <tr>\n      <th>12621</th>\n      <td>17126</td>\n      <td>1144</td>\n      <td>117</td>\n      <td>2.0</td>\n      <td>\\N</td>\n    </tr>\n    <tr>\n      <th>12622</th>\n      <td>17127</td>\n      <td>1144</td>\n      <td>3</td>\n      <td>0.0</td>\n      <td>\\N</td>\n    </tr>\n    <tr>\n      <th>12623</th>\n      <td>17128</td>\n      <td>1144</td>\n      <td>215</td>\n      <td>0.0</td>\n      <td>\\N</td>\n    </tr>\n    <tr>\n      <th>12624</th>\n      <td>17129</td>\n      <td>1144</td>\n      <td>15</td>\n      <td>0.0</td>\n      <td>\\N</td>\n    </tr>\n  </tbody>\n</table>\n</div>"
     },
     "execution_count": 15,
     "metadata": {},
     "output_type": "execute_result"
    }
   ],
   "source": [
    "constructor_results.tail(50)"
   ],
   "metadata": {
    "collapsed": false,
    "ExecuteTime": {
     "end_time": "2025-01-10T14:09:01.160681Z",
     "start_time": "2025-01-10T14:09:01.154435Z"
    }
   },
   "id": "9895b5bfaca37f",
   "execution_count": 15
  },
  {
   "cell_type": "code",
   "outputs": [],
   "source": [],
   "metadata": {
    "collapsed": false
   },
   "id": "3bf2654d3f96dc0f"
  }
 ],
 "metadata": {
  "kernelspec": {
   "display_name": "Python 3",
   "language": "python",
   "name": "python3"
  },
  "language_info": {
   "codemirror_mode": {
    "name": "ipython",
    "version": 2
   },
   "file_extension": ".py",
   "mimetype": "text/x-python",
   "name": "python",
   "nbconvert_exporter": "python",
   "pygments_lexer": "ipython2",
   "version": "2.7.6"
  }
 },
 "nbformat": 4,
 "nbformat_minor": 5
}

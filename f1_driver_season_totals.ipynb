{
 "cells": [
  {
   "cell_type": "markdown",
   "id": "dd926485-a737-45f5-9864-e876e27f296a",
   "metadata": {},
   "source": [
    "## Driver Season Totals\n",
    "\n",
    "- Formula 1 has incorporated Sprint races in the 2021 season. Not every grand prix has a sprint event within it.\n",
    "- Regarding tallying the points for individual drivers, there are two approaches. The results data (Driver results) does not include sprint points, if applicable. Therefore, if these values are to be used, sprint results and results need to be added. The driver standings does include a total value that is added up throughout the season, but you need to find the difference between races to do so."
   ]
  },
  {
   "cell_type": "code",
   "execution_count": 1,
   "id": "29119b58-9c1f-4a16-ae51-8da0c4fa4aab",
   "metadata": {
    "ExecuteTime": {
     "end_time": "2025-01-08T14:36:47.423257Z",
     "start_time": "2025-01-08T14:36:47.055022Z"
    }
   },
   "outputs": [],
   "source": [
    "import pandas as pd"
   ]
  },
  {
   "cell_type": "code",
   "execution_count": 8,
   "id": "141bd589-351b-4dc1-9d9b-38b328f35f72",
   "metadata": {
    "ExecuteTime": {
     "end_time": "2025-01-08T14:38:04.888228Z",
     "start_time": "2025-01-08T14:38:04.826256Z"
    }
   },
   "outputs": [],
   "source": [
    "drivers = pd.read_csv('f1db_csv/drivers.csv', usecols=['driverId', 'code', 'forename', 'surname', 'dob', 'nationality', 'url'])\n",
    "circuit_info = pd.read_csv('f1db_csv/circuits.csv')\n",
    "races = pd.read_csv('transformed_data/race_data.csv')\n",
    "driver_results = pd.read_csv('f1db_csv/results.csv')\n",
    "driver_standings = pd.read_csv('f1db_csv/driver_standings.csv')\n"
   ]
  },
  {
   "cell_type": "code",
   "outputs": [
    {
     "data": {
      "text/plain": "   driverId code  forename     surname         dob nationality  \\\n0         1  HAM     Lewis    Hamilton  1985-01-07     British   \n1         2  HEI      Nick    Heidfeld  1977-05-10      German   \n2         3  ROS      Nico     Rosberg  1985-06-27      German   \n3         4  ALO  Fernando      Alonso  1981-07-29     Spanish   \n4         5  KOV    Heikki  Kovalainen  1981-10-19     Finnish   \n\n                                              url  \n0     http://en.wikipedia.org/wiki/Lewis_Hamilton  \n1      http://en.wikipedia.org/wiki/Nick_Heidfeld  \n2       http://en.wikipedia.org/wiki/Nico_Rosberg  \n3    http://en.wikipedia.org/wiki/Fernando_Alonso  \n4  http://en.wikipedia.org/wiki/Heikki_Kovalainen  ",
      "text/html": "<div>\n<style scoped>\n    .dataframe tbody tr th:only-of-type {\n        vertical-align: middle;\n    }\n\n    .dataframe tbody tr th {\n        vertical-align: top;\n    }\n\n    .dataframe thead th {\n        text-align: right;\n    }\n</style>\n<table border=\"1\" class=\"dataframe\">\n  <thead>\n    <tr style=\"text-align: right;\">\n      <th></th>\n      <th>driverId</th>\n      <th>code</th>\n      <th>forename</th>\n      <th>surname</th>\n      <th>dob</th>\n      <th>nationality</th>\n      <th>url</th>\n    </tr>\n  </thead>\n  <tbody>\n    <tr>\n      <th>0</th>\n      <td>1</td>\n      <td>HAM</td>\n      <td>Lewis</td>\n      <td>Hamilton</td>\n      <td>1985-01-07</td>\n      <td>British</td>\n      <td>http://en.wikipedia.org/wiki/Lewis_Hamilton</td>\n    </tr>\n    <tr>\n      <th>1</th>\n      <td>2</td>\n      <td>HEI</td>\n      <td>Nick</td>\n      <td>Heidfeld</td>\n      <td>1977-05-10</td>\n      <td>German</td>\n      <td>http://en.wikipedia.org/wiki/Nick_Heidfeld</td>\n    </tr>\n    <tr>\n      <th>2</th>\n      <td>3</td>\n      <td>ROS</td>\n      <td>Nico</td>\n      <td>Rosberg</td>\n      <td>1985-06-27</td>\n      <td>German</td>\n      <td>http://en.wikipedia.org/wiki/Nico_Rosberg</td>\n    </tr>\n    <tr>\n      <th>3</th>\n      <td>4</td>\n      <td>ALO</td>\n      <td>Fernando</td>\n      <td>Alonso</td>\n      <td>1981-07-29</td>\n      <td>Spanish</td>\n      <td>http://en.wikipedia.org/wiki/Fernando_Alonso</td>\n    </tr>\n    <tr>\n      <th>4</th>\n      <td>5</td>\n      <td>KOV</td>\n      <td>Heikki</td>\n      <td>Kovalainen</td>\n      <td>1981-10-19</td>\n      <td>Finnish</td>\n      <td>http://en.wikipedia.org/wiki/Heikki_Kovalainen</td>\n    </tr>\n  </tbody>\n</table>\n</div>"
     },
     "execution_count": 9,
     "metadata": {},
     "output_type": "execute_result"
    }
   ],
   "source": [
    "drivers.head()"
   ],
   "metadata": {
    "collapsed": false,
    "ExecuteTime": {
     "end_time": "2025-01-08T14:38:06.570334Z",
     "start_time": "2025-01-08T14:38:06.563950Z"
    }
   },
   "id": "511d79f5acd0e64b",
   "execution_count": 9
  },
  {
   "cell_type": "code",
   "outputs": [],
   "source": [],
   "metadata": {
    "collapsed": false
   },
   "id": "8876a728d98f3ea8"
  }
 ],
 "metadata": {
  "kernelspec": {
   "display_name": "Python 3 (ipykernel)",
   "language": "python",
   "name": "python3"
  },
  "language_info": {
   "codemirror_mode": {
    "name": "ipython",
    "version": 3
   },
   "file_extension": ".py",
   "mimetype": "text/x-python",
   "name": "python",
   "nbconvert_exporter": "python",
   "pygments_lexer": "ipython3",
   "version": "3.11.4"
  }
 },
 "nbformat": 4,
 "nbformat_minor": 5
}

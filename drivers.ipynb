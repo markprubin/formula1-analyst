{
 "cells": [
  {
   "cell_type": "code",
   "execution_count": 1,
   "id": "initial_id",
   "metadata": {
    "collapsed": true,
    "ExecuteTime": {
     "end_time": "2025-01-11T19:39:49.631775Z",
     "start_time": "2025-01-11T19:39:49.177860Z"
    }
   },
   "outputs": [],
   "source": [
    "import pandas as pd"
   ]
  },
  {
   "cell_type": "code",
   "outputs": [],
   "source": [
    "drivers = pd.read_csv('f1db_csv/drivers.csv', usecols=['driverId', 'code', 'forename', 'surname', 'dob', 'nationality', 'url'])"
   ],
   "metadata": {
    "collapsed": false,
    "ExecuteTime": {
     "end_time": "2025-01-11T19:41:12.735886Z",
     "start_time": "2025-01-11T19:41:12.709548Z"
    }
   },
   "id": "165e94d0ef70751c",
   "execution_count": 5
  },
  {
   "cell_type": "code",
   "outputs": [
    {
     "data": {
      "text/plain": "     driverId code  forename     surname         dob    nationality  \\\n0           1  HAM     Lewis    Hamilton  1985-01-07        British   \n1           2  HEI      Nick    Heidfeld  1977-05-10         German   \n2           3  ROS      Nico     Rosberg  1985-06-27         German   \n3           4  ALO  Fernando      Alonso  1981-07-29        Spanish   \n4           5  KOV    Heikki  Kovalainen  1981-10-19        Finnish   \n..        ...  ...       ...         ...         ...            ...   \n856       858  SAR     Logan    Sargeant  2000-12-31       American   \n857       859  LAW      Liam      Lawson  2002-02-11  New Zealander   \n858       860  BEA    Oliver     Bearman  2005-05-08        British   \n859       861  COL    Franco   Colapinto  2003-05-27   Argentinian    \n860       862  DOO      Jack      Doohan  2003-01-20     Australian   \n\n                                                url  \n0       http://en.wikipedia.org/wiki/Lewis_Hamilton  \n1        http://en.wikipedia.org/wiki/Nick_Heidfeld  \n2         http://en.wikipedia.org/wiki/Nico_Rosberg  \n3      http://en.wikipedia.org/wiki/Fernando_Alonso  \n4    http://en.wikipedia.org/wiki/Heikki_Kovalainen  \n..                                              ...  \n856     http://en.wikipedia.org/wiki/Logan_Sargeant  \n857        http://en.wikipedia.org/wiki/Liam_Lawson  \n858     http://en.wikipedia.org/wiki/Oliver_Bearman  \n859   http://en.wikipedia.org/wiki/Franco_Colapinto  \n860        http://en.wikipedia.org/wiki/Jack_Doohan  \n\n[861 rows x 7 columns]",
      "text/html": "<div>\n<style scoped>\n    .dataframe tbody tr th:only-of-type {\n        vertical-align: middle;\n    }\n\n    .dataframe tbody tr th {\n        vertical-align: top;\n    }\n\n    .dataframe thead th {\n        text-align: right;\n    }\n</style>\n<table border=\"1\" class=\"dataframe\">\n  <thead>\n    <tr style=\"text-align: right;\">\n      <th></th>\n      <th>driverId</th>\n      <th>code</th>\n      <th>forename</th>\n      <th>surname</th>\n      <th>dob</th>\n      <th>nationality</th>\n      <th>url</th>\n    </tr>\n  </thead>\n  <tbody>\n    <tr>\n      <th>0</th>\n      <td>1</td>\n      <td>HAM</td>\n      <td>Lewis</td>\n      <td>Hamilton</td>\n      <td>1985-01-07</td>\n      <td>British</td>\n      <td>http://en.wikipedia.org/wiki/Lewis_Hamilton</td>\n    </tr>\n    <tr>\n      <th>1</th>\n      <td>2</td>\n      <td>HEI</td>\n      <td>Nick</td>\n      <td>Heidfeld</td>\n      <td>1977-05-10</td>\n      <td>German</td>\n      <td>http://en.wikipedia.org/wiki/Nick_Heidfeld</td>\n    </tr>\n    <tr>\n      <th>2</th>\n      <td>3</td>\n      <td>ROS</td>\n      <td>Nico</td>\n      <td>Rosberg</td>\n      <td>1985-06-27</td>\n      <td>German</td>\n      <td>http://en.wikipedia.org/wiki/Nico_Rosberg</td>\n    </tr>\n    <tr>\n      <th>3</th>\n      <td>4</td>\n      <td>ALO</td>\n      <td>Fernando</td>\n      <td>Alonso</td>\n      <td>1981-07-29</td>\n      <td>Spanish</td>\n      <td>http://en.wikipedia.org/wiki/Fernando_Alonso</td>\n    </tr>\n    <tr>\n      <th>4</th>\n      <td>5</td>\n      <td>KOV</td>\n      <td>Heikki</td>\n      <td>Kovalainen</td>\n      <td>1981-10-19</td>\n      <td>Finnish</td>\n      <td>http://en.wikipedia.org/wiki/Heikki_Kovalainen</td>\n    </tr>\n    <tr>\n      <th>...</th>\n      <td>...</td>\n      <td>...</td>\n      <td>...</td>\n      <td>...</td>\n      <td>...</td>\n      <td>...</td>\n      <td>...</td>\n    </tr>\n    <tr>\n      <th>856</th>\n      <td>858</td>\n      <td>SAR</td>\n      <td>Logan</td>\n      <td>Sargeant</td>\n      <td>2000-12-31</td>\n      <td>American</td>\n      <td>http://en.wikipedia.org/wiki/Logan_Sargeant</td>\n    </tr>\n    <tr>\n      <th>857</th>\n      <td>859</td>\n      <td>LAW</td>\n      <td>Liam</td>\n      <td>Lawson</td>\n      <td>2002-02-11</td>\n      <td>New Zealander</td>\n      <td>http://en.wikipedia.org/wiki/Liam_Lawson</td>\n    </tr>\n    <tr>\n      <th>858</th>\n      <td>860</td>\n      <td>BEA</td>\n      <td>Oliver</td>\n      <td>Bearman</td>\n      <td>2005-05-08</td>\n      <td>British</td>\n      <td>http://en.wikipedia.org/wiki/Oliver_Bearman</td>\n    </tr>\n    <tr>\n      <th>859</th>\n      <td>861</td>\n      <td>COL</td>\n      <td>Franco</td>\n      <td>Colapinto</td>\n      <td>2003-05-27</td>\n      <td>Argentinian</td>\n      <td>http://en.wikipedia.org/wiki/Franco_Colapinto</td>\n    </tr>\n    <tr>\n      <th>860</th>\n      <td>862</td>\n      <td>DOO</td>\n      <td>Jack</td>\n      <td>Doohan</td>\n      <td>2003-01-20</td>\n      <td>Australian</td>\n      <td>http://en.wikipedia.org/wiki/Jack_Doohan</td>\n    </tr>\n  </tbody>\n</table>\n<p>861 rows × 7 columns</p>\n</div>"
     },
     "execution_count": 18,
     "metadata": {},
     "output_type": "execute_result"
    }
   ],
   "source": [
    "drivers"
   ],
   "metadata": {
    "collapsed": false,
    "ExecuteTime": {
     "end_time": "2025-01-11T19:59:38.203528Z",
     "start_time": "2025-01-11T19:59:38.171509Z"
    }
   },
   "id": "141d16f889c7d71a",
   "execution_count": 18
  },
  {
   "cell_type": "code",
   "outputs": [],
   "source": [
    "results = pd.read_csv('f1db_csv/results.csv', usecols=['raceId', 'driverId', 'constructorId', 'positionText', 'positionOrder', 'points', 'rank'])"
   ],
   "metadata": {
    "collapsed": false,
    "ExecuteTime": {
     "end_time": "2025-01-11T19:43:23.183354Z",
     "start_time": "2025-01-11T19:43:23.137510Z"
    }
   },
   "id": "2503c36aa692c6d1",
   "execution_count": 11
  },
  {
   "cell_type": "code",
   "outputs": [
    {
     "data": {
      "text/plain": "    raceId  driverId  constructorId positionText  positionOrder  points rank\n0       18         1              1            1              1    10.0    2\n1       18         2              2            2              2     8.0    3\n2       18         3              3            3              3     6.0    5\n3       18         4              4            4              4     5.0    7\n4       18         5              1            5              5     4.0    1\n5       18         6              3            6              6     3.0   14\n6       18         7              5            7              7     2.0    8\n7       18         8              6            8              8     1.0    4\n8       18         9              2            R              9     0.0    9\n9       18        10              7            R             10     0.0   13\n10      18        11              8            R             11     0.0   15\n11      18        12              4            R             12     0.0   16\n12      18        13              6            R             13     0.0    6\n13      18        14              9            R             14     0.0   11\n14      18        15              7            R             15     0.0   10",
      "text/html": "<div>\n<style scoped>\n    .dataframe tbody tr th:only-of-type {\n        vertical-align: middle;\n    }\n\n    .dataframe tbody tr th {\n        vertical-align: top;\n    }\n\n    .dataframe thead th {\n        text-align: right;\n    }\n</style>\n<table border=\"1\" class=\"dataframe\">\n  <thead>\n    <tr style=\"text-align: right;\">\n      <th></th>\n      <th>raceId</th>\n      <th>driverId</th>\n      <th>constructorId</th>\n      <th>positionText</th>\n      <th>positionOrder</th>\n      <th>points</th>\n      <th>rank</th>\n    </tr>\n  </thead>\n  <tbody>\n    <tr>\n      <th>0</th>\n      <td>18</td>\n      <td>1</td>\n      <td>1</td>\n      <td>1</td>\n      <td>1</td>\n      <td>10.0</td>\n      <td>2</td>\n    </tr>\n    <tr>\n      <th>1</th>\n      <td>18</td>\n      <td>2</td>\n      <td>2</td>\n      <td>2</td>\n      <td>2</td>\n      <td>8.0</td>\n      <td>3</td>\n    </tr>\n    <tr>\n      <th>2</th>\n      <td>18</td>\n      <td>3</td>\n      <td>3</td>\n      <td>3</td>\n      <td>3</td>\n      <td>6.0</td>\n      <td>5</td>\n    </tr>\n    <tr>\n      <th>3</th>\n      <td>18</td>\n      <td>4</td>\n      <td>4</td>\n      <td>4</td>\n      <td>4</td>\n      <td>5.0</td>\n      <td>7</td>\n    </tr>\n    <tr>\n      <th>4</th>\n      <td>18</td>\n      <td>5</td>\n      <td>1</td>\n      <td>5</td>\n      <td>5</td>\n      <td>4.0</td>\n      <td>1</td>\n    </tr>\n    <tr>\n      <th>5</th>\n      <td>18</td>\n      <td>6</td>\n      <td>3</td>\n      <td>6</td>\n      <td>6</td>\n      <td>3.0</td>\n      <td>14</td>\n    </tr>\n    <tr>\n      <th>6</th>\n      <td>18</td>\n      <td>7</td>\n      <td>5</td>\n      <td>7</td>\n      <td>7</td>\n      <td>2.0</td>\n      <td>8</td>\n    </tr>\n    <tr>\n      <th>7</th>\n      <td>18</td>\n      <td>8</td>\n      <td>6</td>\n      <td>8</td>\n      <td>8</td>\n      <td>1.0</td>\n      <td>4</td>\n    </tr>\n    <tr>\n      <th>8</th>\n      <td>18</td>\n      <td>9</td>\n      <td>2</td>\n      <td>R</td>\n      <td>9</td>\n      <td>0.0</td>\n      <td>9</td>\n    </tr>\n    <tr>\n      <th>9</th>\n      <td>18</td>\n      <td>10</td>\n      <td>7</td>\n      <td>R</td>\n      <td>10</td>\n      <td>0.0</td>\n      <td>13</td>\n    </tr>\n    <tr>\n      <th>10</th>\n      <td>18</td>\n      <td>11</td>\n      <td>8</td>\n      <td>R</td>\n      <td>11</td>\n      <td>0.0</td>\n      <td>15</td>\n    </tr>\n    <tr>\n      <th>11</th>\n      <td>18</td>\n      <td>12</td>\n      <td>4</td>\n      <td>R</td>\n      <td>12</td>\n      <td>0.0</td>\n      <td>16</td>\n    </tr>\n    <tr>\n      <th>12</th>\n      <td>18</td>\n      <td>13</td>\n      <td>6</td>\n      <td>R</td>\n      <td>13</td>\n      <td>0.0</td>\n      <td>6</td>\n    </tr>\n    <tr>\n      <th>13</th>\n      <td>18</td>\n      <td>14</td>\n      <td>9</td>\n      <td>R</td>\n      <td>14</td>\n      <td>0.0</td>\n      <td>11</td>\n    </tr>\n    <tr>\n      <th>14</th>\n      <td>18</td>\n      <td>15</td>\n      <td>7</td>\n      <td>R</td>\n      <td>15</td>\n      <td>0.0</td>\n      <td>10</td>\n    </tr>\n  </tbody>\n</table>\n</div>"
     },
     "execution_count": 12,
     "metadata": {},
     "output_type": "execute_result"
    }
   ],
   "source": [
    "results.head(15)"
   ],
   "metadata": {
    "collapsed": false,
    "ExecuteTime": {
     "end_time": "2025-01-11T19:43:23.577963Z",
     "start_time": "2025-01-11T19:43:23.571793Z"
    }
   },
   "id": "e9f7232c56c40e86",
   "execution_count": 12
  },
  {
   "cell_type": "code",
   "outputs": [],
   "source": [
    "drivers.to_csv('transformed_data/driver_data.csv', index=False)"
   ],
   "metadata": {
    "collapsed": false,
    "ExecuteTime": {
     "end_time": "2025-01-11T19:51:15.110206Z",
     "start_time": "2025-01-11T19:51:15.103425Z"
    }
   },
   "id": "86042e7c957c0e57",
   "execution_count": 16
  },
  {
   "cell_type": "code",
   "outputs": [],
   "source": [
    "results.to_csv('transformed_data/result_data.csv', index=False)"
   ],
   "metadata": {
    "collapsed": false,
    "ExecuteTime": {
     "end_time": "2025-01-11T19:51:18.158404Z",
     "start_time": "2025-01-11T19:51:18.126827Z"
    }
   },
   "id": "fd5f8dc69dab3a5",
   "execution_count": 17
  },
  {
   "cell_type": "code",
   "outputs": [],
   "source": [],
   "metadata": {
    "collapsed": false
   },
   "id": "76f25c57f11f2b21"
  }
 ],
 "metadata": {
  "kernelspec": {
   "display_name": "Python 3",
   "language": "python",
   "name": "python3"
  },
  "language_info": {
   "codemirror_mode": {
    "name": "ipython",
    "version": 2
   },
   "file_extension": ".py",
   "mimetype": "text/x-python",
   "name": "python",
   "nbconvert_exporter": "python",
   "pygments_lexer": "ipython2",
   "version": "2.7.6"
  }
 },
 "nbformat": 4,
 "nbformat_minor": 5
}
